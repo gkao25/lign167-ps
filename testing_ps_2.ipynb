{
 "cells": [
  {
   "cell_type": "markdown",
   "metadata": {},
   "source": [
    "# Starter Code"
   ]
  },
  {
   "cell_type": "code",
   "execution_count": 2,
   "metadata": {},
   "outputs": [
    {
     "ename": "ModuleNotFoundError",
     "evalue": "No module named 'torch'",
     "output_type": "error",
     "traceback": [
      "\u001b[1;31m---------------------------------------------------------------------------\u001b[0m",
      "\u001b[1;31mModuleNotFoundError\u001b[0m                       Traceback (most recent call last)",
      "Cell \u001b[1;32mIn[2], line 2\u001b[0m\n\u001b[0;32m      1\u001b[0m \u001b[38;5;28;01mimport\u001b[39;00m \u001b[38;5;21;01mnumpy\u001b[39;00m \u001b[38;5;28;01mas\u001b[39;00m \u001b[38;5;21;01mnp\u001b[39;00m\n\u001b[1;32m----> 2\u001b[0m \u001b[38;5;28;01mimport\u001b[39;00m \u001b[38;5;21;01mtorch\u001b[39;00m\n\u001b[0;32m      3\u001b[0m \u001b[38;5;28;01mfrom\u001b[39;00m \u001b[38;5;21;01mtorch\u001b[39;00m \u001b[38;5;28;01mimport\u001b[39;00m nn\n\u001b[0;32m      4\u001b[0m \u001b[38;5;28;01mimport\u001b[39;00m \u001b[38;5;21;01mtorch\u001b[39;00m\u001b[38;5;21;01m.\u001b[39;00m\u001b[38;5;21;01moptim\u001b[39;00m \u001b[38;5;28;01mas\u001b[39;00m \u001b[38;5;21;01moptim\u001b[39;00m\n",
      "\u001b[1;31mModuleNotFoundError\u001b[0m: No module named 'torch'"
     ]
    }
   ],
   "source": [
    "import numpy as np\n",
    "import torch\n",
    "from torch import nn\n",
    "import torch.optim as optim\n",
    "\n",
    "import os\n",
    "os.environ['KMP_DUPLICATE_LIB_OK'] = 'TRUE'\n",
    "\n",
    "\n",
    "################################ BEGIN NUMPY STARTER CODE #################################################\n",
    "def sigmoid(x):\n",
    "    #Numerically stable sigmoid function.\n",
    "    #Taken from: https://timvieira.github.io/blog/post/2014/02/11/exp-normalize-trick/\n",
    "    if x >= 0:\n",
    "        z = np.exp(-x)\n",
    "        return 1 / (1 + z)\n",
    "    else:\n",
    "        # if x is less than zero then z will be small, denom can't be\n",
    "        # zero because it's 1+z.\n",
    "        z = np.exp(x)\n",
    "        return z / (1 + z)\n",
    "\n",
    "\n",
    "def sample_logistic_distribution(x,a):\n",
    "    #np.random.seed(1)\n",
    "    num_samples = len(x)\n",
    "    y = np.empty(num_samples)\n",
    "    for i in range(num_samples):\n",
    "        y[i] = np.random.binomial(1,logistic_positive_prob(x[i],a))\n",
    "    return y\n",
    "\n",
    "def create_input_values(dim,num_samples):\n",
    "    #np.random.seed(100)\n",
    "    x_inputs = []\n",
    "    for i in range(num_samples):\n",
    "        x = 10*np.random.rand(dim)-5\n",
    "        x_inputs.append(x)\n",
    "    return x_inputs\n",
    "\n",
    "\n",
    "def create_dataset():\n",
    "    x= create_input_values(2,100)\n",
    "    a=np.array([12,12])\n",
    "    y=sample_logistic_distribution(x,a)\n",
    "\n",
    "    return x,y\n",
    "\n",
    "################################ END NUMPY STARTER CODE ####################################################\n",
    "\n",
    "\n",
    "\n",
    "################################ BEGIN PYTORCH STARTER CODE ################################################\n",
    "\n",
    "class TorchLogisticClassifier(nn.Module):\n",
    "\n",
    "  def __init__(self, num_features):\n",
    "    super().__init__()\n",
    "    self.weights = nn.Parameter(torch.zeros(num_features))\n",
    "\n",
    "  def forward(self, x_vector):\n",
    "    logit = torch.dot(self.weights, x_vector)\n",
    "    prob = torch.sigmoid(logit)\n",
    "    return prob\n",
    "\n",
    "\n",
    "def loss_fn(y_predicted, y_observed):\n",
    "    return -1 * (y_observed * torch.log(y_predicted)\n",
    "                 + (1 - y_observed) * torch.log(1 - y_predicted))\n",
    "\n",
    "def extract_num_features(dataset):\n",
    "    first_example = dataset[0]\n",
    "    # first_example is a pair (x,y), where x is a vector of features and y is 0 or 1\n",
    "    # note that both x and y are torch tensors\n",
    "    first_example_x = first_example[0]\n",
    "    first_example_y = first_example[1]\n",
    "    num_features = first_example_x.size(0)\n",
    "    return num_features\n",
    "\n",
    "def nonbatched_gradient_descent(dataset, num_epochs=10, learning_rate=0.01):\n",
    "    num_features = extract_num_features(dataset)\n",
    "    model = TorchLogisticClassifier(num_features)\n",
    "    optimizer = optim.SGD(model.parameters(), lr=learning_rate)\n",
    "    for i in range(num_epochs):\n",
    "        for d_x, d_y in dataset:\n",
    "            optimizer.zero_grad()\n",
    "            prediction = model(d_x)\n",
    "            loss = loss_fn(prediction, d_y)\n",
    "            loss.backward()\n",
    "            optimizer.step()\n",
    "    return model\n",
    "\n",
    "def generate_nonbatched_data(num_features=3, num_examples=100):\n",
    "    x_vectors = [torch.randn(num_features) for _ in range(num_examples)]\n",
    "    prob_val = 0.5 * torch.ones(1)\n",
    "    y_vectors = [torch.bernoulli(prob_val) for _ in range(num_examples)]\n",
    "\n",
    "    dataset = list(zip(x_vectors, y_vectors))\n",
    "\n",
    "    return dataset\n",
    "\n",
    "def main():\n",
    "    nonbatched_dataset = generate_nonbatched_data()\n",
    "    nonbatched_gradient_descent(nonbatched_dataset)\n",
    "\n",
    "################################ END PYTORCH STARTER CODE ###################################################\n",
    "\n",
    "\n",
    "# NOTICE: DO NOT EDIT FUNCTION SIGNATURES \n",
    "# PLEASE FILL IN FREE RESPONSE AND CODE IN THE PROVIDED SPACES\n"
   ]
  },
  {
   "cell_type": "markdown",
   "metadata": {},
   "source": [
    "# Problems 1 - 6"
   ]
  },
  {
   "cell_type": "code",
   "execution_count": 2,
   "metadata": {},
   "outputs": [],
   "source": [
    "# PROBLEM 1\n",
    "def logistic_positive_prob(x,a):\n",
    "    z = np.dot(a, x)\n",
    "    return sigmoid(z)\n",
    "\n",
    "# PROBLEM 2\n",
    "def logistic_derivative_per_datapoint(y_i,x_i,a,j):\n",
    "    prob = logistic_positive_prob(x_i, a)\n",
    "    return -(y_i - prob) * x_i[j]\n",
    "\n",
    "# PROBLEM 3\n",
    "def logistic_partial_derivative(y,x,a,j):\n",
    "    n = len(y)\n",
    "    partial_derivative = 0\n",
    "    for i in range(n):\n",
    "        partial_derivative += logistic_derivative_per_datapoint(y[i], x[i], a, j)\n",
    "    return partial_derivative / n\n",
    "\n",
    "# PROBLEM 4\n",
    "def compute_logistic_gradient(a,y,x):\n",
    "    k = len(a)\n",
    "    gradient = np.zeros(k)\n",
    "    for j in range(k):\n",
    "        gradient[j] = logistic_partial_derivative(y, x, a, j)\n",
    "    return gradient\n",
    "\n",
    "# PROBLEM 5\n",
    "def gradient_update(a,lr,gradient):\n",
    "    return a - lr * gradient\n",
    "\n",
    "# PROBLEM 6 (LUKE UPDATE)\n",
    "def gradient_descent_logistic(initial_a, lr, num_iterations, y, x):\n",
    "    a = initial_a\n",
    "    for _ in range(num_iterations):\n",
    "        gradient = compute_logistic_gradient(a, y, x)\n",
    "        a = gradient_update(a, lr, gradient)\n",
    "    return a\n"
   ]
  },
  {
   "cell_type": "markdown",
   "metadata": {},
   "source": [
    "# Testing 1 - 6 "
   ]
  },
  {
   "cell_type": "code",
   "execution_count": 3,
   "metadata": {},
   "outputs": [
    {
     "data": {
      "image/png": "[encoded data removed]",
      "text/plain": [
       "<Figure size 640x480 with 1 Axes>"
      ]
     },
     "metadata": {},
     "output_type": "display_data"
    }
   ],
   "source": [
    "import numpy as np\n",
    "import matplotlib.pyplot as plt\n",
    "\n",
    "def create_test_data():\n",
    "    x, y = create_dataset()  # use the starter code to create dataset\n",
    "    x = np.array(x)\n",
    "    y = np.array(y)\n",
    "    return x, y\n",
    "\n",
    "def plot_decision_boundary(a, x, y):\n",
    "    plt.scatter(x[:, 0], x[:, 1], c=y, cmap='bwr', alpha=0.7)\n",
    "    x_boundary = np.linspace(np.min(x[:, 0]), np.max(x[:, 0]), 100)\n",
    "    y_boundary = -(a[0] / a[1]) * x_boundary\n",
    "    plt.plot(x_boundary, y_boundary, color='green', label='Decision Boundary')\n",
    "    plt.title('Decision Boundary after Logistic Regression')\n",
    "    plt.xlabel('Feature 1')\n",
    "    plt.ylabel('Feature 2')\n",
    "    plt.legend()\n",
    "    plt.show()\n",
    "\n",
    "# Running a test\n",
    "x, y = create_test_data()\n",
    "initial_a = np.zeros(2)\n",
    "lr = 0.01\n",
    "num_iterations = 1000\n",
    "\n",
    "final_a = gradient_descent_logistic(initial_a, lr, num_iterations, y, x)\n",
    "plot_decision_boundary(final_a, x, y)"
   ]
  },
  {
   "cell_type": "markdown",
   "metadata": {},
   "source": [
    "# Testing 9 "
   ]
  },
  {
   "cell_type": "markdown",
   "metadata": {},
   "source": [
    "### Luke Code"
   ]
  },
  {
   "cell_type": "code",
   "execution_count": 16,
   "metadata": {},
   "outputs": [],
   "source": [
    "def batched_gradient_descent(dataset, num_epochs=10, learning_rate=0.01, batch_size=2):\n",
    "    num_features = extract_num_features(dataset)\n",
    "    model = TorchLogisticClassifier(num_features)\n",
    "    optimizer = optim.SGD(model.parameters(), lr=learning_rate)\n",
    "\n",
    "    for epoch in range(num_epochs):\n",
    "        batches = split_into_batches(dataset, batch_size)\n",
    "        for batch in batches:\n",
    "            optimizer.zero_grad()\n",
    "            batch_loss = 0\n",
    "            for d_x, d_y in batch:\n",
    "                prediction = model(d_x)\n",
    "                loss = loss_fn(prediction, d_y)\n",
    "                loss.backward()\n",
    "                batch_loss += loss.item()\n",
    "            optimizer.step()\n",
    "    return model\n",
    "\n",
    "# PROBLEMS 10-12\n",
    "def split_into_batches(dataset, batch_size):\n",
    "    return [dataset[i:i + batch_size] for i in range(0, len(dataset), batch_size)]"
   ]
  },
  {
   "cell_type": "markdown",
   "metadata": {},
   "source": [
    "## Graph for 9"
   ]
  },
  {
   "cell_type": "code",
   "execution_count": 45,
   "metadata": {},
   "outputs": [],
   "source": [
    "def test_batched_gradient_descent():\n",
    "    # Generate dataset\n",
    "    dataset = generate_nonbatched_data(num_features=2, num_examples=100)\n",
    "    \n",
    "    # Run batched gradient descent\n",
    "    model = batched_gradient_descent(dataset)\n",
    "    \n",
    "    # Plot the decision boundary\n",
    "    a = model.weights.detach().numpy()\n",
    "    x = torch.stack([d[0] for d in dataset]).numpy()\n",
    "    y = torch.stack([d[1] for d in dataset]).numpy()\n",
    "    plot_decision_boundary(a, x, y)"
   ]
  },
  {
   "cell_type": "code",
   "execution_count": 18,
   "metadata": {},
   "outputs": [
    {
     "ename": "TypeError",
     "evalue": "'int' object is not callable",
     "output_type": "error",
     "traceback": [
      "\u001b[1;31m---------------------------------------------------------------------------\u001b[0m",
      "\u001b[1;31mTypeError\u001b[0m                                 Traceback (most recent call last)",
      "Cell \u001b[1;32mIn[18], line 4\u001b[0m\n\u001b[0;32m      2\u001b[0m x, y \u001b[38;5;241m=\u001b[39m create_test_data()\n\u001b[0;32m      3\u001b[0m dataset \u001b[38;5;241m=\u001b[39m (x, y)\n\u001b[1;32m----> 4\u001b[0m model \u001b[38;5;241m=\u001b[39m \u001b[43mbatched_gradient_descent\u001b[49m\u001b[43m(\u001b[49m\u001b[43mdataset\u001b[49m\u001b[43m)\u001b[49m\n\u001b[0;32m      6\u001b[0m weights \u001b[38;5;241m=\u001b[39m model\u001b[38;5;241m.\u001b[39mweights\u001b[38;5;241m.\u001b[39mdetach()\u001b[38;5;241m.\u001b[39mnumpy()\u001b[38;5;241m.\u001b[39mflatten()\n\u001b[0;32m      7\u001b[0m plot_decision_boundary(weights, x, y)\n",
      "Cell \u001b[1;32mIn[16], line 2\u001b[0m, in \u001b[0;36mbatched_gradient_descent\u001b[1;34m(dataset, num_epochs, learning_rate, batch_size)\u001b[0m\n\u001b[0;32m      1\u001b[0m \u001b[38;5;28;01mdef\u001b[39;00m \u001b[38;5;21mbatched_gradient_descent\u001b[39m(dataset, num_epochs\u001b[38;5;241m=\u001b[39m\u001b[38;5;241m10\u001b[39m, learning_rate\u001b[38;5;241m=\u001b[39m\u001b[38;5;241m0.01\u001b[39m, batch_size\u001b[38;5;241m=\u001b[39m\u001b[38;5;241m2\u001b[39m):\n\u001b[1;32m----> 2\u001b[0m     num_features \u001b[38;5;241m=\u001b[39m \u001b[43mextract_num_features\u001b[49m\u001b[43m(\u001b[49m\u001b[43mdataset\u001b[49m\u001b[43m)\u001b[49m\n\u001b[0;32m      3\u001b[0m     model \u001b[38;5;241m=\u001b[39m TorchLogisticClassifier(num_features)\n\u001b[0;32m      4\u001b[0m     optimizer \u001b[38;5;241m=\u001b[39m optim\u001b[38;5;241m.\u001b[39mSGD(model\u001b[38;5;241m.\u001b[39mparameters(), lr\u001b[38;5;241m=\u001b[39mlearning_rate)\n",
      "Cell \u001b[1;32mIn[7], line 76\u001b[0m, in \u001b[0;36mextract_num_features\u001b[1;34m(dataset)\u001b[0m\n\u001b[0;32m     74\u001b[0m first_example_x \u001b[38;5;241m=\u001b[39m first_example[\u001b[38;5;241m0\u001b[39m]\n\u001b[0;32m     75\u001b[0m first_example_y \u001b[38;5;241m=\u001b[39m first_example[\u001b[38;5;241m1\u001b[39m]\n\u001b[1;32m---> 76\u001b[0m num_features \u001b[38;5;241m=\u001b[39m \u001b[43mfirst_example_x\u001b[49m\u001b[38;5;241;43m.\u001b[39;49m\u001b[43msize\u001b[49m\u001b[43m(\u001b[49m\u001b[38;5;241;43m0\u001b[39;49m\u001b[43m)\u001b[49m\n\u001b[0;32m     77\u001b[0m \u001b[38;5;28;01mreturn\u001b[39;00m num_features\n",
      "\u001b[1;31mTypeError\u001b[0m: 'int' object is not callable"
     ]
    }
   ],
   "source": [
    "# Running a test\n",
    "x, y = create_test_data()\n",
    "dataset = (x, y)\n",
    "model = batched_gradient_descent(dataset)\n",
    "\n",
    "weights = model.weights.detach().numpy().flatten()\n",
    "plot_decision_boundary(weights, x, y)"
   ]
  },
  {
   "cell_type": "markdown",
   "metadata": {},
   "source": [
    "10/25 new version and test"
   ]
  },
  {
   "cell_type": "code",
   "execution_count": 11,
   "metadata": {},
   "outputs": [
    {
     "ename": "TypeError",
     "evalue": "'int' object is not callable",
     "output_type": "error",
     "traceback": [
      "\u001b[1;31m---------------------------------------------------------------------------\u001b[0m",
      "\u001b[1;31mTypeError\u001b[0m                                 Traceback (most recent call last)",
      "Cell \u001b[1;32mIn[11], line 55\u001b[0m\n\u001b[0;32m     53\u001b[0m x, y \u001b[38;5;241m=\u001b[39m create_test_data()\n\u001b[0;32m     54\u001b[0m dataset \u001b[38;5;241m=\u001b[39m (x, y)\n\u001b[1;32m---> 55\u001b[0m model \u001b[38;5;241m=\u001b[39m \u001b[43mbatched_gradient_descent\u001b[49m\u001b[43m(\u001b[49m\u001b[43mdataset\u001b[49m\u001b[43m)\u001b[49m\n\u001b[0;32m     57\u001b[0m weights \u001b[38;5;241m=\u001b[39m model\u001b[38;5;241m.\u001b[39mweights\u001b[38;5;241m.\u001b[39mdetach()\u001b[38;5;241m.\u001b[39mnumpy()\u001b[38;5;241m.\u001b[39mflatten()\n\u001b[0;32m     58\u001b[0m plot_decision_boundary(weights, x, y)\n",
      "Cell \u001b[1;32mIn[11], line 35\u001b[0m, in \u001b[0;36mbatched_gradient_descent\u001b[1;34m(dataset, num_epochs, learning_rate, batch_size)\u001b[0m\n\u001b[0;32m     34\u001b[0m \u001b[38;5;28;01mdef\u001b[39;00m \u001b[38;5;21mbatched_gradient_descent\u001b[39m(dataset, num_epochs\u001b[38;5;241m=\u001b[39m\u001b[38;5;241m10\u001b[39m, learning_rate\u001b[38;5;241m=\u001b[39m\u001b[38;5;241m0.01\u001b[39m, batch_size\u001b[38;5;241m=\u001b[39m\u001b[38;5;241m2\u001b[39m):\n\u001b[1;32m---> 35\u001b[0m     num_features \u001b[38;5;241m=\u001b[39m \u001b[43mextract_num_features\u001b[49m\u001b[43m(\u001b[49m\u001b[43mdataset\u001b[49m\u001b[43m)\u001b[49m\n\u001b[0;32m     36\u001b[0m     model \u001b[38;5;241m=\u001b[39m TorchLogisticClassifier(num_features)\n\u001b[0;32m     37\u001b[0m     optimizer \u001b[38;5;241m=\u001b[39m optim\u001b[38;5;241m.\u001b[39mSGD(model\u001b[38;5;241m.\u001b[39mparameters(), lr\u001b[38;5;241m=\u001b[39mlearning_rate)\n",
      "Cell \u001b[1;32mIn[7], line 76\u001b[0m, in \u001b[0;36mextract_num_features\u001b[1;34m(dataset)\u001b[0m\n\u001b[0;32m     74\u001b[0m first_example_x \u001b[38;5;241m=\u001b[39m first_example[\u001b[38;5;241m0\u001b[39m]\n\u001b[0;32m     75\u001b[0m first_example_y \u001b[38;5;241m=\u001b[39m first_example[\u001b[38;5;241m1\u001b[39m]\n\u001b[1;32m---> 76\u001b[0m num_features \u001b[38;5;241m=\u001b[39m \u001b[43mfirst_example_x\u001b[49m\u001b[38;5;241;43m.\u001b[39;49m\u001b[43msize\u001b[49m\u001b[43m(\u001b[49m\u001b[38;5;241;43m0\u001b[39;49m\u001b[43m)\u001b[49m\n\u001b[0;32m     77\u001b[0m \u001b[38;5;28;01mreturn\u001b[39;00m num_features\n",
      "\u001b[1;31mTypeError\u001b[0m: 'int' object is not callable"
     ]
    }
   ],
   "source": [
    "# def split_into_batches(dataset, batch_size):\n",
    "#     x, y = dataset\n",
    "#     batches = []\n",
    "#     for i in range(0, len(x), batch_size):\n",
    "#         x_batch = x[i:i + batch_size]\n",
    "#         y_batch = y[i:i + batch_size]\n",
    "#         batches.append((torch.tensor(x_batch, dtype=torch.float32), \n",
    "#                         torch.tensor(y_batch, dtype=torch.float32)))\n",
    "#     return batches\n",
    "\n",
    "# def extract_num_features(dataset):\n",
    "#     x, _ = dataset\n",
    "#     return x.shape[1]\n",
    "\n",
    "# def create_test_data():\n",
    "#     x, y = create_dataset()  # Replace with your dataset generation code\n",
    "#     x = np.array(x)\n",
    "#     y = np.array(y)\n",
    "#     return x, y\n",
    "\n",
    "# def plot_decision_boundary(a, x, y):\n",
    "#     plt.scatter(x[:, 0], x[:, 1], c=y, cmap='bwr', alpha=0.7)\n",
    "#     x_boundary = np.linspace(np.min(x[:, 0]), np.max(x[:, 0]), 100)\n",
    "#     y_boundary = -(a[0] / a[1]) * x_boundary\n",
    "#     plt.plot(x_boundary, y_boundary, color='green', label='Decision Boundary')\n",
    "#     plt.title('Decision Boundary after Logistic Regression')\n",
    "#     plt.xlabel('Feature 1')\n",
    "#     plt.ylabel('Feature 2')\n",
    "#     plt.legend()\n",
    "#     plt.show()\n",
    "\n",
    "def batched_gradient_descent(dataset, num_epochs=10, learning_rate=0.01, batch_size=2):\n",
    "    num_features = extract_num_features(dataset)\n",
    "    model = TorchLogisticClassifier(num_features)\n",
    "    optimizer = optim.SGD(model.parameters(), lr=learning_rate)\n",
    "    batches = split_into_batches(dataset, batch_size)\n",
    "    \n",
    "    for _ in range(num_epochs):\n",
    "        for batch in batches:\n",
    "            optimizer.zero_grad()\n",
    "            batch_loss = 0\n",
    "            for d_x, d_y in zip(batch[0], batch[1]):\n",
    "                prediction = model(d_x)\n",
    "                batch_loss += loss_fn(prediction, d_y.view(-1, 1))\n",
    "            batch_loss.backward()\n",
    "            optimizer.step()\n",
    "    \n",
    "    return model\n",
    "\n",
    "# Running a test\n",
    "x, y = create_test_data()\n",
    "dataset = (x, y)\n",
    "model = batched_gradient_descent(dataset)\n",
    "\n",
    "weights = model.weights.detach().numpy().flatten()\n",
    "plot_decision_boundary(weights, x, y)"
   ]
  },
  {
   "cell_type": "markdown",
   "metadata": {},
   "source": [
    "### Gloria Code"
   ]
  },
  {
   "cell_type": "code",
   "execution_count": 1,
   "metadata": {},
   "outputs": [],
   "source": [
    "def batched_gradient_descent(dataset, num_epochs=10, learning_rate=0.01, batch_size=2):\n",
    "    print('2, dataset input')\n",
    "    print(dataset)\n",
    "    batches = split_into_batches(dataset, batch_size)\n",
    "    print('3, batches')\n",
    "    print(batches)\n",
    "    num_features = extract_num_features(dataset)\n",
    "    model = TorchLogisticClassifier(num_features)\n",
    "    optimizer = optim.SGD(model.parameters(), lr=learning_rate)\n",
    "    for i in range(num_epochs):         # epoch loop\n",
    "        for batch in batches:           # batch loop\n",
    "            # only call backward once per batch per epoch\n",
    "            optimizer.zero_grad()\n",
    "            for d_x, d_y in batch:      # loop inside batch\n",
    "                prediction = model(d_x)\n",
    "                loss = loss_fn(prediction, d_y)\n",
    "                loss.backward()\n",
    "            optimizer.step()\n",
    "    return model\n",
    "\n",
    "# PROBLEMS 10-12\n",
    "def split_into_batches(dataset, batch_size):\n",
    "    k_batches = len(dataset) / batch_size\n",
    "    batches = []\n",
    "    i = 0\n",
    "    for k in range(int(k_batches)):\n",
    "        batches.append(dataset[i:i+batch_size])\n",
    "        i += batch_size\n",
    "    return batches"
   ]
  },
  {
   "cell_type": "markdown",
   "metadata": {},
   "source": [
    "^ after restarting and trying to understand the start code i think this is the most correct"
   ]
  },
  {
   "cell_type": "code",
   "execution_count": 66,
   "metadata": {},
   "outputs": [
    {
     "name": "stdout",
     "output_type": "stream",
     "text": [
      "2, dataset input\n",
      "[(tensor([-0.0292, -0.5025]), tensor([0.])), (tensor([0.3577, 1.7272]), tensor([0.])), (tensor([-0.5391,  1.2137]), tensor([1.])), (tensor([ 0.9694, -0.5135]), tensor([1.])), (tensor([-0.6794,  0.1001]), tensor([1.])), (tensor([-0.3656,  1.3077]), tensor([0.])), (tensor([1.9791, 0.3400]), tensor([0.])), (tensor([-0.5244, -1.4864]), tensor([0.])), (tensor([1.9642, 1.5167]), tensor([1.])), (tensor([0.6860, 0.6421]), tensor([0.])), (tensor([0.7375, 0.4292]), tensor([1.])), (tensor([0.8953, 1.7514]), tensor([1.])), (tensor([-1.1094, -1.0606]), tensor([1.])), (tensor([-0.5317,  0.0677]), tensor([0.])), (tensor([-1.3961,  0.6731]), tensor([0.])), (tensor([-0.7196,  0.7596]), tensor([1.])), (tensor([-0.7406, -0.8022]), tensor([0.])), (tensor([ 0.3985, -0.6787]), tensor([1.])), (tensor([-1.2470,  0.2331]), tensor([1.])), (tensor([-1.0011,  1.0038]), tensor([0.])), (tensor([ 0.2367, -0.6392]), tensor([1.])), (tensor([-0.8456,  1.0878]), tensor([0.])), (tensor([0.7053, 1.0655]), tensor([0.])), (tensor([-0.8229,  0.5007]), tensor([1.])), (tensor([0.7074, 0.0575]), tensor([0.])), (tensor([-0.5583,  0.9735]), tensor([0.])), (tensor([-1.0621,  0.5419]), tensor([0.])), (tensor([ 0.7089, -0.4831]), tensor([0.])), (tensor([-2.2144,  0.9382]), tensor([1.])), (tensor([-0.0629, -0.6463]), tensor([1.])), (tensor([ 1.3361, -0.0447]), tensor([1.])), (tensor([-0.9962,  0.0942]), tensor([0.])), (tensor([ 0.3835, -0.1604]), tensor([0.])), (tensor([2.2531, 1.3358]), tensor([0.])), (tensor([0.9856, 1.1354]), tensor([0.])), (tensor([-0.4991, -0.5240]), tensor([0.])), (tensor([-0.5398,  0.3140]), tensor([0.])), (tensor([-1.5670,  0.9146]), tensor([0.])), (tensor([1.0420, 1.2714]), tensor([1.])), (tensor([ 2.4848, -0.1112]), tensor([0.])), (tensor([-0.4520,  0.4833]), tensor([0.])), (tensor([0.3183, 1.0495]), tensor([1.])), (tensor([0.1987, 1.1545]), tensor([1.])), (tensor([-0.9249, -0.2355]), tensor([0.])), (tensor([0.8943, 0.7268]), tensor([1.])), (tensor([-0.2089, -0.1983]), tensor([0.])), (tensor([-0.7477, -1.3023]), tensor([1.])), (tensor([-0.1380, -0.5525]), tensor([0.])), (tensor([-0.7853,  1.1875]), tensor([0.])), (tensor([-0.2206, -0.2178]), tensor([1.])), (tensor([0.2666, 1.2566]), tensor([1.])), (tensor([-0.5694,  0.6043]), tensor([1.])), (tensor([-0.4036, -0.4150]), tensor([1.])), (tensor([0.5071, 0.9621]), tensor([1.])), (tensor([ 1.3027, -0.5742]), tensor([1.])), (tensor([ 0.0121, -0.8230]), tensor([0.])), (tensor([-1.1962, -0.3286]), tensor([1.])), (tensor([-0.3296,  0.1577]), tensor([1.])), (tensor([-0.1000, -0.1495]), tensor([0.])), (tensor([0.2939, 0.0828]), tensor([1.])), (tensor([-0.0183,  0.8492]), tensor([0.])), (tensor([1.3232, 0.5687]), tensor([1.])), (tensor([-0.9554, -0.6749]), tensor([0.])), (tensor([1.9694, 0.6271]), tensor([1.])), (tensor([-0.4704, -1.4198]), tensor([0.])), (tensor([-0.6855,  1.4943]), tensor([1.])), (tensor([-0.3511,  0.9431]), tensor([1.])), (tensor([-1.0367,  0.2280]), tensor([0.])), (tensor([0.2128, 1.1977]), tensor([0.])), (tensor([1.2136, 0.4758]), tensor([1.])), (tensor([-0.8092,  0.1404]), tensor([1.])), (tensor([ 1.5943, -0.2621]), tensor([1.])), (tensor([1.9252, 1.1236]), tensor([0.])), (tensor([0.4763, 1.1178]), tensor([1.])), (tensor([-0.9736, -0.0253]), tensor([1.])), (tensor([0.7771, 1.4697]), tensor([1.])), (tensor([-0.1608,  0.3100]), tensor([0.])), (tensor([0.0565, 0.5560]), tensor([0.])), (tensor([ 0.1481, -0.2490]), tensor([0.])), (tensor([-0.1433, -1.1339]), tensor([1.])), (tensor([0.0291, 0.2569]), tensor([0.])), (tensor([ 1.7950, -1.4856]), tensor([1.])), (tensor([0.8602, 1.0519]), tensor([1.])), (tensor([ 0.3992, -0.3331]), tensor([1.])), (tensor([1.6370, 0.7162]), tensor([1.])), (tensor([-0.4092,  0.3283]), tensor([0.])), (tensor([0.7174, 1.1708]), tensor([0.])), (tensor([-1.4262, -0.0656]), tensor([1.])), (tensor([-0.5601,  0.8761]), tensor([1.])), (tensor([1.1838, 1.2866]), tensor([1.])), (tensor([-1.3626, -2.3805]), tensor([1.])), (tensor([-0.2969,  1.4907]), tensor([0.])), (tensor([-0.1928, -0.0033]), tensor([1.])), (tensor([0.3751, 0.1333]), tensor([0.])), (tensor([0.7751, 0.2240]), tensor([0.])), (tensor([ 0.5347, -0.9153]), tensor([0.])), (tensor([-1.1559, -2.0011]), tensor([1.])), (tensor([0.7728, 0.0935]), tensor([0.])), (tensor([1.3955, 0.8301]), tensor([1.])), (tensor([-0.8526,  0.1879]), tensor([1.]))]\n",
      "3, batches\n",
      "[[(tensor([-0.0292, -0.5025]), tensor([0.])), (tensor([0.3577, 1.7272]), tensor([0.]))], [(tensor([-0.5391,  1.2137]), tensor([1.])), (tensor([ 0.9694, -0.5135]), tensor([1.]))], [(tensor([-0.6794,  0.1001]), tensor([1.])), (tensor([-0.3656,  1.3077]), tensor([0.]))], [(tensor([1.9791, 0.3400]), tensor([0.])), (tensor([-0.5244, -1.4864]), tensor([0.]))], [(tensor([1.9642, 1.5167]), tensor([1.])), (tensor([0.6860, 0.6421]), tensor([0.]))], [(tensor([0.7375, 0.4292]), tensor([1.])), (tensor([0.8953, 1.7514]), tensor([1.]))], [(tensor([-1.1094, -1.0606]), tensor([1.])), (tensor([-0.5317,  0.0677]), tensor([0.]))], [(tensor([-1.3961,  0.6731]), tensor([0.])), (tensor([-0.7196,  0.7596]), tensor([1.]))], [(tensor([-0.7406, -0.8022]), tensor([0.])), (tensor([ 0.3985, -0.6787]), tensor([1.]))], [(tensor([-1.2470,  0.2331]), tensor([1.])), (tensor([-1.0011,  1.0038]), tensor([0.]))], [(tensor([ 0.2367, -0.6392]), tensor([1.])), (tensor([-0.8456,  1.0878]), tensor([0.]))], [(tensor([0.7053, 1.0655]), tensor([0.])), (tensor([-0.8229,  0.5007]), tensor([1.]))], [(tensor([0.7074, 0.0575]), tensor([0.])), (tensor([-0.5583,  0.9735]), tensor([0.]))], [(tensor([-1.0621,  0.5419]), tensor([0.])), (tensor([ 0.7089, -0.4831]), tensor([0.]))], [(tensor([-2.2144,  0.9382]), tensor([1.])), (tensor([-0.0629, -0.6463]), tensor([1.]))], [(tensor([ 1.3361, -0.0447]), tensor([1.])), (tensor([-0.9962,  0.0942]), tensor([0.]))], [(tensor([ 0.3835, -0.1604]), tensor([0.])), (tensor([2.2531, 1.3358]), tensor([0.]))], [(tensor([0.9856, 1.1354]), tensor([0.])), (tensor([-0.4991, -0.5240]), tensor([0.]))], [(tensor([-0.5398,  0.3140]), tensor([0.])), (tensor([-1.5670,  0.9146]), tensor([0.]))], [(tensor([1.0420, 1.2714]), tensor([1.])), (tensor([ 2.4848, -0.1112]), tensor([0.]))], [(tensor([-0.4520,  0.4833]), tensor([0.])), (tensor([0.3183, 1.0495]), tensor([1.]))], [(tensor([0.1987, 1.1545]), tensor([1.])), (tensor([-0.9249, -0.2355]), tensor([0.]))], [(tensor([0.8943, 0.7268]), tensor([1.])), (tensor([-0.2089, -0.1983]), tensor([0.]))], [(tensor([-0.7477, -1.3023]), tensor([1.])), (tensor([-0.1380, -0.5525]), tensor([0.]))], [(tensor([-0.7853,  1.1875]), tensor([0.])), (tensor([-0.2206, -0.2178]), tensor([1.]))], [(tensor([0.2666, 1.2566]), tensor([1.])), (tensor([-0.5694,  0.6043]), tensor([1.]))], [(tensor([-0.4036, -0.4150]), tensor([1.])), (tensor([0.5071, 0.9621]), tensor([1.]))], [(tensor([ 1.3027, -0.5742]), tensor([1.])), (tensor([ 0.0121, -0.8230]), tensor([0.]))], [(tensor([-1.1962, -0.3286]), tensor([1.])), (tensor([-0.3296,  0.1577]), tensor([1.]))], [(tensor([-0.1000, -0.1495]), tensor([0.])), (tensor([0.2939, 0.0828]), tensor([1.]))], [(tensor([-0.0183,  0.8492]), tensor([0.])), (tensor([1.3232, 0.5687]), tensor([1.]))], [(tensor([-0.9554, -0.6749]), tensor([0.])), (tensor([1.9694, 0.6271]), tensor([1.]))], [(tensor([-0.4704, -1.4198]), tensor([0.])), (tensor([-0.6855,  1.4943]), tensor([1.]))], [(tensor([-0.3511,  0.9431]), tensor([1.])), (tensor([-1.0367,  0.2280]), tensor([0.]))], [(tensor([0.2128, 1.1977]), tensor([0.])), (tensor([1.2136, 0.4758]), tensor([1.]))], [(tensor([-0.8092,  0.1404]), tensor([1.])), (tensor([ 1.5943, -0.2621]), tensor([1.]))], [(tensor([1.9252, 1.1236]), tensor([0.])), (tensor([0.4763, 1.1178]), tensor([1.]))], [(tensor([-0.9736, -0.0253]), tensor([1.])), (tensor([0.7771, 1.4697]), tensor([1.]))], [(tensor([-0.1608,  0.3100]), tensor([0.])), (tensor([0.0565, 0.5560]), tensor([0.]))], [(tensor([ 0.1481, -0.2490]), tensor([0.])), (tensor([-0.1433, -1.1339]), tensor([1.]))], [(tensor([0.0291, 0.2569]), tensor([0.])), (tensor([ 1.7950, -1.4856]), tensor([1.]))], [(tensor([0.8602, 1.0519]), tensor([1.])), (tensor([ 0.3992, -0.3331]), tensor([1.]))], [(tensor([1.6370, 0.7162]), tensor([1.])), (tensor([-0.4092,  0.3283]), tensor([0.]))], [(tensor([0.7174, 1.1708]), tensor([0.])), (tensor([-1.4262, -0.0656]), tensor([1.]))], [(tensor([-0.5601,  0.8761]), tensor([1.])), (tensor([1.1838, 1.2866]), tensor([1.]))], [(tensor([-1.3626, -2.3805]), tensor([1.])), (tensor([-0.2969,  1.4907]), tensor([0.]))], [(tensor([-0.1928, -0.0033]), tensor([1.])), (tensor([0.3751, 0.1333]), tensor([0.]))], [(tensor([0.7751, 0.2240]), tensor([0.])), (tensor([ 0.5347, -0.9153]), tensor([0.]))], [(tensor([-1.1559, -2.0011]), tensor([1.])), (tensor([0.7728, 0.0935]), tensor([0.]))], [(tensor([1.3955, 0.8301]), tensor([1.])), (tensor([-0.8526,  0.1879]), tensor([1.]))]]\n"
     ]
    },
    {
     "data": {
      "image/png": "[encoded data removed]",
      "text/plain": [
       "<Figure size 640x480 with 1 Axes>"
      ]
     },
     "metadata": {},
     "output_type": "display_data"
    }
   ],
   "source": [
    "# this uses generate_nonbatched_data()\n",
    "test_batched_gradient_descent()"
   ]
  },
  {
   "cell_type": "code",
   "execution_count": 69,
   "metadata": {},
   "outputs": [
    {
     "name": "stdout",
     "output_type": "stream",
     "text": [
      "1, dataset\n",
      "[(tensor([-1.0153, -1.4293], dtype=torch.float64), tensor(0., dtype=torch.float64)), (tensor([ 3.6606, -1.9635], dtype=torch.float64), tensor(1., dtype=torch.float64)), (tensor([-4.2373,  0.3030], dtype=torch.float64), tensor(0., dtype=torch.float64)), (tensor([ 1.8168, -1.6318], dtype=torch.float64), tensor(1., dtype=torch.float64)), (tensor([0.3023, 2.6470], dtype=torch.float64), tensor(1., dtype=torch.float64)), (tensor([2.1536, 1.5100], dtype=torch.float64), tensor(1., dtype=torch.float64)), (tensor([3.6416, 0.5500], dtype=torch.float64), tensor(1., dtype=torch.float64)), (tensor([-1.8855, -2.2073], dtype=torch.float64), tensor(0., dtype=torch.float64)), (tensor([2.5938, 3.6442], dtype=torch.float64), tensor(1., dtype=torch.float64)), (tensor([-3.2051, -3.7448], dtype=torch.float64), tensor(0., dtype=torch.float64)), (tensor([4.0776, 2.4524], dtype=torch.float64), tensor(1., dtype=torch.float64)), (tensor([-4.0828,  4.3957], dtype=torch.float64), tensor(1., dtype=torch.float64)), (tensor([ 1.5151, -4.3688], dtype=torch.float64), tensor(0., dtype=torch.float64)), (tensor([-4.1519, -3.2332], dtype=torch.float64), tensor(0., dtype=torch.float64)), (tensor([4.5295, 0.4810], dtype=torch.float64), tensor(1., dtype=torch.float64)), (tensor([-2.4399, -3.5729], dtype=torch.float64), tensor(0., dtype=torch.float64)), (tensor([2.0662, 3.6676], dtype=torch.float64), tensor(1., dtype=torch.float64)), (tensor([ 3.9669, -3.0978], dtype=torch.float64), tensor(1., dtype=torch.float64)), (tensor([ 4.1047, -2.1864], dtype=torch.float64), tensor(1., dtype=torch.float64)), (tensor([1.1478, 1.8830], dtype=torch.float64), tensor(1., dtype=torch.float64)), (tensor([-4.7913,  2.5779], dtype=torch.float64), tensor(0., dtype=torch.float64)), (tensor([ 0.8429, -0.5875], dtype=torch.float64), tensor(1., dtype=torch.float64)), (tensor([ 0.3165, -0.7192], dtype=torch.float64), tensor(0., dtype=torch.float64)), (tensor([ 3.6608, -2.7764], dtype=torch.float64), tensor(1., dtype=torch.float64)), (tensor([2.2385, 0.8424], dtype=torch.float64), tensor(1., dtype=torch.float64)), (tensor([-2.9690, -0.8311], dtype=torch.float64), tensor(0., dtype=torch.float64)), (tensor([-4.9760, -0.9029], dtype=torch.float64), tensor(0., dtype=torch.float64)), (tensor([4.9195, 1.3993], dtype=torch.float64), tensor(1., dtype=torch.float64)), (tensor([ 1.6196, -3.1401], dtype=torch.float64), tensor(0., dtype=torch.float64)), (tensor([-1.1541,  2.7547], dtype=torch.float64), tensor(1., dtype=torch.float64)), (tensor([ 1.5604, -1.3248], dtype=torch.float64), tensor(0., dtype=torch.float64)), (tensor([ 4.8847, -1.9357], dtype=torch.float64), tensor(1., dtype=torch.float64)), (tensor([4.1672, 0.5441], dtype=torch.float64), tensor(1., dtype=torch.float64)), (tensor([ 0.5867, -0.5300], dtype=torch.float64), tensor(1., dtype=torch.float64)), (tensor([-2.4596,  2.1106], dtype=torch.float64), tensor(0., dtype=torch.float64)), (tensor([3.9441, 2.4658], dtype=torch.float64), tensor(1., dtype=torch.float64)), (tensor([0.7442, 1.3357], dtype=torch.float64), tensor(1., dtype=torch.float64)), (tensor([-4.1365,  0.7139], dtype=torch.float64), tensor(0., dtype=torch.float64)), (tensor([4.7319, 0.4481], dtype=torch.float64), tensor(1., dtype=torch.float64)), (tensor([-1.6675,  0.9238], dtype=torch.float64), tensor(0., dtype=torch.float64)), (tensor([-2.7598,  0.6466], dtype=torch.float64), tensor(0., dtype=torch.float64)), (tensor([-0.0178,  3.5212], dtype=torch.float64), tensor(1., dtype=torch.float64)), (tensor([ 4.3462, -4.0208], dtype=torch.float64), tensor(1., dtype=torch.float64)), (tensor([-0.3443,  2.6769], dtype=torch.float64), tensor(1., dtype=torch.float64)), (tensor([3.7423, 2.4730], dtype=torch.float64), tensor(1., dtype=torch.float64)), (tensor([-2.0262,  4.1788], dtype=torch.float64), tensor(1., dtype=torch.float64)), (tensor([-2.4339, -1.7250], dtype=torch.float64), tensor(0., dtype=torch.float64)), (tensor([4.1333, 3.8968], dtype=torch.float64), tensor(1., dtype=torch.float64)), (tensor([-2.7884, -1.3323], dtype=torch.float64), tensor(0., dtype=torch.float64)), (tensor([-4.7177,  2.7322], dtype=torch.float64), tensor(0., dtype=torch.float64)), (tensor([ 3.4829, -3.2691], dtype=torch.float64), tensor(1., dtype=torch.float64)), (tensor([-3.0951, -0.4284], dtype=torch.float64), tensor(0., dtype=torch.float64)), (tensor([-2.2666, -4.7286], dtype=torch.float64), tensor(0., dtype=torch.float64)), (tensor([4.1509, 4.9962], dtype=torch.float64), tensor(1., dtype=torch.float64)), (tensor([-3.6873,  1.1022], dtype=torch.float64), tensor(0., dtype=torch.float64)), (tensor([-2.2885,  1.9837], dtype=torch.float64), tensor(0., dtype=torch.float64)), (tensor([ 3.7827, -0.5395], dtype=torch.float64), tensor(1., dtype=torch.float64)), (tensor([1.9050, 1.0559], dtype=torch.float64), tensor(1., dtype=torch.float64)), (tensor([-4.9377, -3.9305], dtype=torch.float64), tensor(0., dtype=torch.float64)), (tensor([ 2.7214, -0.1523], dtype=torch.float64), tensor(1., dtype=torch.float64)), (tensor([ 0.5725, -3.3952], dtype=torch.float64), tensor(0., dtype=torch.float64)), (tensor([ 0.9787, -0.2153], dtype=torch.float64), tensor(1., dtype=torch.float64)), (tensor([ 4.1720, -3.5913], dtype=torch.float64), tensor(1., dtype=torch.float64)), (tensor([-1.6163,  4.3062], dtype=torch.float64), tensor(1., dtype=torch.float64)), (tensor([ 3.6367, -2.4252], dtype=torch.float64), tensor(1., dtype=torch.float64)), (tensor([2.8772, 0.9570], dtype=torch.float64), tensor(1., dtype=torch.float64)), (tensor([-4.4512, -4.9503], dtype=torch.float64), tensor(0., dtype=torch.float64)), (tensor([-3.4273, -4.0661], dtype=torch.float64), tensor(0., dtype=torch.float64)), (tensor([-4.2914,  1.1387], dtype=torch.float64), tensor(0., dtype=torch.float64)), (tensor([-4.2107, -0.6772], dtype=torch.float64), tensor(0., dtype=torch.float64)), (tensor([-0.1107, -3.2720], dtype=torch.float64), tensor(0., dtype=torch.float64)), (tensor([-0.4104,  3.4681], dtype=torch.float64), tensor(1., dtype=torch.float64)), (tensor([-2.9101,  3.7410], dtype=torch.float64), tensor(1., dtype=torch.float64)), (tensor([ 2.3464, -4.4168], dtype=torch.float64), tensor(0., dtype=torch.float64)), (tensor([4.2532, 0.5082], dtype=torch.float64), tensor(1., dtype=torch.float64)), (tensor([ 2.2979, -0.4185], dtype=torch.float64), tensor(1., dtype=torch.float64)), (tensor([-1.6736,  0.7851], dtype=torch.float64), tensor(0., dtype=torch.float64)), (tensor([0.1142, 3.3199], dtype=torch.float64), tensor(1., dtype=torch.float64)), (tensor([ 1.7821, -4.3900], dtype=torch.float64), tensor(0., dtype=torch.float64)), (tensor([0.6577, 0.9986], dtype=torch.float64), tensor(1., dtype=torch.float64)), (tensor([-3.3674,  2.1460], dtype=torch.float64), tensor(0., dtype=torch.float64)), (tensor([ 4.4267, -3.9391], dtype=torch.float64), tensor(1., dtype=torch.float64)), (tensor([-3.4271, -2.9663], dtype=torch.float64), tensor(0., dtype=torch.float64)), (tensor([-3.4326, -1.4632], dtype=torch.float64), tensor(0., dtype=torch.float64)), (tensor([ 1.1643, -4.1165], dtype=torch.float64), tensor(0., dtype=torch.float64)), (tensor([ 2.1964, -3.1207], dtype=torch.float64), tensor(0., dtype=torch.float64)), (tensor([ 4.8563, -0.6044], dtype=torch.float64), tensor(1., dtype=torch.float64)), (tensor([ 2.1605, -0.0691], dtype=torch.float64), tensor(1., dtype=torch.float64)), (tensor([-0.8995, -1.2213], dtype=torch.float64), tensor(0., dtype=torch.float64)), (tensor([ 4.1152, -4.0306], dtype=torch.float64), tensor(0., dtype=torch.float64)), (tensor([ 0.4453, -1.5912], dtype=torch.float64), tensor(0., dtype=torch.float64)), (tensor([2.4723, 0.2981], dtype=torch.float64), tensor(1., dtype=torch.float64)), (tensor([-3.8261, -1.2295], dtype=torch.float64), tensor(0., dtype=torch.float64)), (tensor([0.3890, 4.0166], dtype=torch.float64), tensor(1., dtype=torch.float64)), (tensor([ 3.2238, -4.5475], dtype=torch.float64), tensor(0., dtype=torch.float64)), (tensor([3.5303, 4.1189], dtype=torch.float64), tensor(1., dtype=torch.float64)), (tensor([4.1868, 1.0024], dtype=torch.float64), tensor(1., dtype=torch.float64)), (tensor([-1.5120, -3.0186], dtype=torch.float64), tensor(0., dtype=torch.float64)), (tensor([1.6083, 3.7413], dtype=torch.float64), tensor(1., dtype=torch.float64)), (tensor([-3.1665, -2.6208], dtype=torch.float64), tensor(0., dtype=torch.float64))]\n",
      "2, dataset input\n",
      "[(tensor([-1.0153, -1.4293], dtype=torch.float64), tensor(0., dtype=torch.float64)), (tensor([ 3.6606, -1.9635], dtype=torch.float64), tensor(1., dtype=torch.float64)), (tensor([-4.2373,  0.3030], dtype=torch.float64), tensor(0., dtype=torch.float64)), (tensor([ 1.8168, -1.6318], dtype=torch.float64), tensor(1., dtype=torch.float64)), (tensor([0.3023, 2.6470], dtype=torch.float64), tensor(1., dtype=torch.float64)), (tensor([2.1536, 1.5100], dtype=torch.float64), tensor(1., dtype=torch.float64)), (tensor([3.6416, 0.5500], dtype=torch.float64), tensor(1., dtype=torch.float64)), (tensor([-1.8855, -2.2073], dtype=torch.float64), tensor(0., dtype=torch.float64)), (tensor([2.5938, 3.6442], dtype=torch.float64), tensor(1., dtype=torch.float64)), (tensor([-3.2051, -3.7448], dtype=torch.float64), tensor(0., dtype=torch.float64)), (tensor([4.0776, 2.4524], dtype=torch.float64), tensor(1., dtype=torch.float64)), (tensor([-4.0828,  4.3957], dtype=torch.float64), tensor(1., dtype=torch.float64)), (tensor([ 1.5151, -4.3688], dtype=torch.float64), tensor(0., dtype=torch.float64)), (tensor([-4.1519, -3.2332], dtype=torch.float64), tensor(0., dtype=torch.float64)), (tensor([4.5295, 0.4810], dtype=torch.float64), tensor(1., dtype=torch.float64)), (tensor([-2.4399, -3.5729], dtype=torch.float64), tensor(0., dtype=torch.float64)), (tensor([2.0662, 3.6676], dtype=torch.float64), tensor(1., dtype=torch.float64)), (tensor([ 3.9669, -3.0978], dtype=torch.float64), tensor(1., dtype=torch.float64)), (tensor([ 4.1047, -2.1864], dtype=torch.float64), tensor(1., dtype=torch.float64)), (tensor([1.1478, 1.8830], dtype=torch.float64), tensor(1., dtype=torch.float64)), (tensor([-4.7913,  2.5779], dtype=torch.float64), tensor(0., dtype=torch.float64)), (tensor([ 0.8429, -0.5875], dtype=torch.float64), tensor(1., dtype=torch.float64)), (tensor([ 0.3165, -0.7192], dtype=torch.float64), tensor(0., dtype=torch.float64)), (tensor([ 3.6608, -2.7764], dtype=torch.float64), tensor(1., dtype=torch.float64)), (tensor([2.2385, 0.8424], dtype=torch.float64), tensor(1., dtype=torch.float64)), (tensor([-2.9690, -0.8311], dtype=torch.float64), tensor(0., dtype=torch.float64)), (tensor([-4.9760, -0.9029], dtype=torch.float64), tensor(0., dtype=torch.float64)), (tensor([4.9195, 1.3993], dtype=torch.float64), tensor(1., dtype=torch.float64)), (tensor([ 1.6196, -3.1401], dtype=torch.float64), tensor(0., dtype=torch.float64)), (tensor([-1.1541,  2.7547], dtype=torch.float64), tensor(1., dtype=torch.float64)), (tensor([ 1.5604, -1.3248], dtype=torch.float64), tensor(0., dtype=torch.float64)), (tensor([ 4.8847, -1.9357], dtype=torch.float64), tensor(1., dtype=torch.float64)), (tensor([4.1672, 0.5441], dtype=torch.float64), tensor(1., dtype=torch.float64)), (tensor([ 0.5867, -0.5300], dtype=torch.float64), tensor(1., dtype=torch.float64)), (tensor([-2.4596,  2.1106], dtype=torch.float64), tensor(0., dtype=torch.float64)), (tensor([3.9441, 2.4658], dtype=torch.float64), tensor(1., dtype=torch.float64)), (tensor([0.7442, 1.3357], dtype=torch.float64), tensor(1., dtype=torch.float64)), (tensor([-4.1365,  0.7139], dtype=torch.float64), tensor(0., dtype=torch.float64)), (tensor([4.7319, 0.4481], dtype=torch.float64), tensor(1., dtype=torch.float64)), (tensor([-1.6675,  0.9238], dtype=torch.float64), tensor(0., dtype=torch.float64)), (tensor([-2.7598,  0.6466], dtype=torch.float64), tensor(0., dtype=torch.float64)), (tensor([-0.0178,  3.5212], dtype=torch.float64), tensor(1., dtype=torch.float64)), (tensor([ 4.3462, -4.0208], dtype=torch.float64), tensor(1., dtype=torch.float64)), (tensor([-0.3443,  2.6769], dtype=torch.float64), tensor(1., dtype=torch.float64)), (tensor([3.7423, 2.4730], dtype=torch.float64), tensor(1., dtype=torch.float64)), (tensor([-2.0262,  4.1788], dtype=torch.float64), tensor(1., dtype=torch.float64)), (tensor([-2.4339, -1.7250], dtype=torch.float64), tensor(0., dtype=torch.float64)), (tensor([4.1333, 3.8968], dtype=torch.float64), tensor(1., dtype=torch.float64)), (tensor([-2.7884, -1.3323], dtype=torch.float64), tensor(0., dtype=torch.float64)), (tensor([-4.7177,  2.7322], dtype=torch.float64), tensor(0., dtype=torch.float64)), (tensor([ 3.4829, -3.2691], dtype=torch.float64), tensor(1., dtype=torch.float64)), (tensor([-3.0951, -0.4284], dtype=torch.float64), tensor(0., dtype=torch.float64)), (tensor([-2.2666, -4.7286], dtype=torch.float64), tensor(0., dtype=torch.float64)), (tensor([4.1509, 4.9962], dtype=torch.float64), tensor(1., dtype=torch.float64)), (tensor([-3.6873,  1.1022], dtype=torch.float64), tensor(0., dtype=torch.float64)), (tensor([-2.2885,  1.9837], dtype=torch.float64), tensor(0., dtype=torch.float64)), (tensor([ 3.7827, -0.5395], dtype=torch.float64), tensor(1., dtype=torch.float64)), (tensor([1.9050, 1.0559], dtype=torch.float64), tensor(1., dtype=torch.float64)), (tensor([-4.9377, -3.9305], dtype=torch.float64), tensor(0., dtype=torch.float64)), (tensor([ 2.7214, -0.1523], dtype=torch.float64), tensor(1., dtype=torch.float64)), (tensor([ 0.5725, -3.3952], dtype=torch.float64), tensor(0., dtype=torch.float64)), (tensor([ 0.9787, -0.2153], dtype=torch.float64), tensor(1., dtype=torch.float64)), (tensor([ 4.1720, -3.5913], dtype=torch.float64), tensor(1., dtype=torch.float64)), (tensor([-1.6163,  4.3062], dtype=torch.float64), tensor(1., dtype=torch.float64)), (tensor([ 3.6367, -2.4252], dtype=torch.float64), tensor(1., dtype=torch.float64)), (tensor([2.8772, 0.9570], dtype=torch.float64), tensor(1., dtype=torch.float64)), (tensor([-4.4512, -4.9503], dtype=torch.float64), tensor(0., dtype=torch.float64)), (tensor([-3.4273, -4.0661], dtype=torch.float64), tensor(0., dtype=torch.float64)), (tensor([-4.2914,  1.1387], dtype=torch.float64), tensor(0., dtype=torch.float64)), (tensor([-4.2107, -0.6772], dtype=torch.float64), tensor(0., dtype=torch.float64)), (tensor([-0.1107, -3.2720], dtype=torch.float64), tensor(0., dtype=torch.float64)), (tensor([-0.4104,  3.4681], dtype=torch.float64), tensor(1., dtype=torch.float64)), (tensor([-2.9101,  3.7410], dtype=torch.float64), tensor(1., dtype=torch.float64)), (tensor([ 2.3464, -4.4168], dtype=torch.float64), tensor(0., dtype=torch.float64)), (tensor([4.2532, 0.5082], dtype=torch.float64), tensor(1., dtype=torch.float64)), (tensor([ 2.2979, -0.4185], dtype=torch.float64), tensor(1., dtype=torch.float64)), (tensor([-1.6736,  0.7851], dtype=torch.float64), tensor(0., dtype=torch.float64)), (tensor([0.1142, 3.3199], dtype=torch.float64), tensor(1., dtype=torch.float64)), (tensor([ 1.7821, -4.3900], dtype=torch.float64), tensor(0., dtype=torch.float64)), (tensor([0.6577, 0.9986], dtype=torch.float64), tensor(1., dtype=torch.float64)), (tensor([-3.3674,  2.1460], dtype=torch.float64), tensor(0., dtype=torch.float64)), (tensor([ 4.4267, -3.9391], dtype=torch.float64), tensor(1., dtype=torch.float64)), (tensor([-3.4271, -2.9663], dtype=torch.float64), tensor(0., dtype=torch.float64)), (tensor([-3.4326, -1.4632], dtype=torch.float64), tensor(0., dtype=torch.float64)), (tensor([ 1.1643, -4.1165], dtype=torch.float64), tensor(0., dtype=torch.float64)), (tensor([ 2.1964, -3.1207], dtype=torch.float64), tensor(0., dtype=torch.float64)), (tensor([ 4.8563, -0.6044], dtype=torch.float64), tensor(1., dtype=torch.float64)), (tensor([ 2.1605, -0.0691], dtype=torch.float64), tensor(1., dtype=torch.float64)), (tensor([-0.8995, -1.2213], dtype=torch.float64), tensor(0., dtype=torch.float64)), (tensor([ 4.1152, -4.0306], dtype=torch.float64), tensor(0., dtype=torch.float64)), (tensor([ 0.4453, -1.5912], dtype=torch.float64), tensor(0., dtype=torch.float64)), (tensor([2.4723, 0.2981], dtype=torch.float64), tensor(1., dtype=torch.float64)), (tensor([-3.8261, -1.2295], dtype=torch.float64), tensor(0., dtype=torch.float64)), (tensor([0.3890, 4.0166], dtype=torch.float64), tensor(1., dtype=torch.float64)), (tensor([ 3.2238, -4.5475], dtype=torch.float64), tensor(0., dtype=torch.float64)), (tensor([3.5303, 4.1189], dtype=torch.float64), tensor(1., dtype=torch.float64)), (tensor([4.1868, 1.0024], dtype=torch.float64), tensor(1., dtype=torch.float64)), (tensor([-1.5120, -3.0186], dtype=torch.float64), tensor(0., dtype=torch.float64)), (tensor([1.6083, 3.7413], dtype=torch.float64), tensor(1., dtype=torch.float64)), (tensor([-3.1665, -2.6208], dtype=torch.float64), tensor(0., dtype=torch.float64))]\n",
      "3, batches\n",
      "[[(tensor([-1.0153, -1.4293], dtype=torch.float64), tensor(0., dtype=torch.float64)), (tensor([ 3.6606, -1.9635], dtype=torch.float64), tensor(1., dtype=torch.float64))], [(tensor([-4.2373,  0.3030], dtype=torch.float64), tensor(0., dtype=torch.float64)), (tensor([ 1.8168, -1.6318], dtype=torch.float64), tensor(1., dtype=torch.float64))], [(tensor([0.3023, 2.6470], dtype=torch.float64), tensor(1., dtype=torch.float64)), (tensor([2.1536, 1.5100], dtype=torch.float64), tensor(1., dtype=torch.float64))], [(tensor([3.6416, 0.5500], dtype=torch.float64), tensor(1., dtype=torch.float64)), (tensor([-1.8855, -2.2073], dtype=torch.float64), tensor(0., dtype=torch.float64))], [(tensor([2.5938, 3.6442], dtype=torch.float64), tensor(1., dtype=torch.float64)), (tensor([-3.2051, -3.7448], dtype=torch.float64), tensor(0., dtype=torch.float64))], [(tensor([4.0776, 2.4524], dtype=torch.float64), tensor(1., dtype=torch.float64)), (tensor([-4.0828,  4.3957], dtype=torch.float64), tensor(1., dtype=torch.float64))], [(tensor([ 1.5151, -4.3688], dtype=torch.float64), tensor(0., dtype=torch.float64)), (tensor([-4.1519, -3.2332], dtype=torch.float64), tensor(0., dtype=torch.float64))], [(tensor([4.5295, 0.4810], dtype=torch.float64), tensor(1., dtype=torch.float64)), (tensor([-2.4399, -3.5729], dtype=torch.float64), tensor(0., dtype=torch.float64))], [(tensor([2.0662, 3.6676], dtype=torch.float64), tensor(1., dtype=torch.float64)), (tensor([ 3.9669, -3.0978], dtype=torch.float64), tensor(1., dtype=torch.float64))], [(tensor([ 4.1047, -2.1864], dtype=torch.float64), tensor(1., dtype=torch.float64)), (tensor([1.1478, 1.8830], dtype=torch.float64), tensor(1., dtype=torch.float64))], [(tensor([-4.7913,  2.5779], dtype=torch.float64), tensor(0., dtype=torch.float64)), (tensor([ 0.8429, -0.5875], dtype=torch.float64), tensor(1., dtype=torch.float64))], [(tensor([ 0.3165, -0.7192], dtype=torch.float64), tensor(0., dtype=torch.float64)), (tensor([ 3.6608, -2.7764], dtype=torch.float64), tensor(1., dtype=torch.float64))], [(tensor([2.2385, 0.8424], dtype=torch.float64), tensor(1., dtype=torch.float64)), (tensor([-2.9690, -0.8311], dtype=torch.float64), tensor(0., dtype=torch.float64))], [(tensor([-4.9760, -0.9029], dtype=torch.float64), tensor(0., dtype=torch.float64)), (tensor([4.9195, 1.3993], dtype=torch.float64), tensor(1., dtype=torch.float64))], [(tensor([ 1.6196, -3.1401], dtype=torch.float64), tensor(0., dtype=torch.float64)), (tensor([-1.1541,  2.7547], dtype=torch.float64), tensor(1., dtype=torch.float64))], [(tensor([ 1.5604, -1.3248], dtype=torch.float64), tensor(0., dtype=torch.float64)), (tensor([ 4.8847, -1.9357], dtype=torch.float64), tensor(1., dtype=torch.float64))], [(tensor([4.1672, 0.5441], dtype=torch.float64), tensor(1., dtype=torch.float64)), (tensor([ 0.5867, -0.5300], dtype=torch.float64), tensor(1., dtype=torch.float64))], [(tensor([-2.4596,  2.1106], dtype=torch.float64), tensor(0., dtype=torch.float64)), (tensor([3.9441, 2.4658], dtype=torch.float64), tensor(1., dtype=torch.float64))], [(tensor([0.7442, 1.3357], dtype=torch.float64), tensor(1., dtype=torch.float64)), (tensor([-4.1365,  0.7139], dtype=torch.float64), tensor(0., dtype=torch.float64))], [(tensor([4.7319, 0.4481], dtype=torch.float64), tensor(1., dtype=torch.float64)), (tensor([-1.6675,  0.9238], dtype=torch.float64), tensor(0., dtype=torch.float64))], [(tensor([-2.7598,  0.6466], dtype=torch.float64), tensor(0., dtype=torch.float64)), (tensor([-0.0178,  3.5212], dtype=torch.float64), tensor(1., dtype=torch.float64))], [(tensor([ 4.3462, -4.0208], dtype=torch.float64), tensor(1., dtype=torch.float64)), (tensor([-0.3443,  2.6769], dtype=torch.float64), tensor(1., dtype=torch.float64))], [(tensor([3.7423, 2.4730], dtype=torch.float64), tensor(1., dtype=torch.float64)), (tensor([-2.0262,  4.1788], dtype=torch.float64), tensor(1., dtype=torch.float64))], [(tensor([-2.4339, -1.7250], dtype=torch.float64), tensor(0., dtype=torch.float64)), (tensor([4.1333, 3.8968], dtype=torch.float64), tensor(1., dtype=torch.float64))], [(tensor([-2.7884, -1.3323], dtype=torch.float64), tensor(0., dtype=torch.float64)), (tensor([-4.7177,  2.7322], dtype=torch.float64), tensor(0., dtype=torch.float64))], [(tensor([ 3.4829, -3.2691], dtype=torch.float64), tensor(1., dtype=torch.float64)), (tensor([-3.0951, -0.4284], dtype=torch.float64), tensor(0., dtype=torch.float64))], [(tensor([-2.2666, -4.7286], dtype=torch.float64), tensor(0., dtype=torch.float64)), (tensor([4.1509, 4.9962], dtype=torch.float64), tensor(1., dtype=torch.float64))], [(tensor([-3.6873,  1.1022], dtype=torch.float64), tensor(0., dtype=torch.float64)), (tensor([-2.2885,  1.9837], dtype=torch.float64), tensor(0., dtype=torch.float64))], [(tensor([ 3.7827, -0.5395], dtype=torch.float64), tensor(1., dtype=torch.float64)), (tensor([1.9050, 1.0559], dtype=torch.float64), tensor(1., dtype=torch.float64))], [(tensor([-4.9377, -3.9305], dtype=torch.float64), tensor(0., dtype=torch.float64)), (tensor([ 2.7214, -0.1523], dtype=torch.float64), tensor(1., dtype=torch.float64))], [(tensor([ 0.5725, -3.3952], dtype=torch.float64), tensor(0., dtype=torch.float64)), (tensor([ 0.9787, -0.2153], dtype=torch.float64), tensor(1., dtype=torch.float64))], [(tensor([ 4.1720, -3.5913], dtype=torch.float64), tensor(1., dtype=torch.float64)), (tensor([-1.6163,  4.3062], dtype=torch.float64), tensor(1., dtype=torch.float64))], [(tensor([ 3.6367, -2.4252], dtype=torch.float64), tensor(1., dtype=torch.float64)), (tensor([2.8772, 0.9570], dtype=torch.float64), tensor(1., dtype=torch.float64))], [(tensor([-4.4512, -4.9503], dtype=torch.float64), tensor(0., dtype=torch.float64)), (tensor([-3.4273, -4.0661], dtype=torch.float64), tensor(0., dtype=torch.float64))], [(tensor([-4.2914,  1.1387], dtype=torch.float64), tensor(0., dtype=torch.float64)), (tensor([-4.2107, -0.6772], dtype=torch.float64), tensor(0., dtype=torch.float64))], [(tensor([-0.1107, -3.2720], dtype=torch.float64), tensor(0., dtype=torch.float64)), (tensor([-0.4104,  3.4681], dtype=torch.float64), tensor(1., dtype=torch.float64))], [(tensor([-2.9101,  3.7410], dtype=torch.float64), tensor(1., dtype=torch.float64)), (tensor([ 2.3464, -4.4168], dtype=torch.float64), tensor(0., dtype=torch.float64))], [(tensor([4.2532, 0.5082], dtype=torch.float64), tensor(1., dtype=torch.float64)), (tensor([ 2.2979, -0.4185], dtype=torch.float64), tensor(1., dtype=torch.float64))], [(tensor([-1.6736,  0.7851], dtype=torch.float64), tensor(0., dtype=torch.float64)), (tensor([0.1142, 3.3199], dtype=torch.float64), tensor(1., dtype=torch.float64))], [(tensor([ 1.7821, -4.3900], dtype=torch.float64), tensor(0., dtype=torch.float64)), (tensor([0.6577, 0.9986], dtype=torch.float64), tensor(1., dtype=torch.float64))], [(tensor([-3.3674,  2.1460], dtype=torch.float64), tensor(0., dtype=torch.float64)), (tensor([ 4.4267, -3.9391], dtype=torch.float64), tensor(1., dtype=torch.float64))], [(tensor([-3.4271, -2.9663], dtype=torch.float64), tensor(0., dtype=torch.float64)), (tensor([-3.4326, -1.4632], dtype=torch.float64), tensor(0., dtype=torch.float64))], [(tensor([ 1.1643, -4.1165], dtype=torch.float64), tensor(0., dtype=torch.float64)), (tensor([ 2.1964, -3.1207], dtype=torch.float64), tensor(0., dtype=torch.float64))], [(tensor([ 4.8563, -0.6044], dtype=torch.float64), tensor(1., dtype=torch.float64)), (tensor([ 2.1605, -0.0691], dtype=torch.float64), tensor(1., dtype=torch.float64))], [(tensor([-0.8995, -1.2213], dtype=torch.float64), tensor(0., dtype=torch.float64)), (tensor([ 4.1152, -4.0306], dtype=torch.float64), tensor(0., dtype=torch.float64))], [(tensor([ 0.4453, -1.5912], dtype=torch.float64), tensor(0., dtype=torch.float64)), (tensor([2.4723, 0.2981], dtype=torch.float64), tensor(1., dtype=torch.float64))], [(tensor([-3.8261, -1.2295], dtype=torch.float64), tensor(0., dtype=torch.float64)), (tensor([0.3890, 4.0166], dtype=torch.float64), tensor(1., dtype=torch.float64))], [(tensor([ 3.2238, -4.5475], dtype=torch.float64), tensor(0., dtype=torch.float64)), (tensor([3.5303, 4.1189], dtype=torch.float64), tensor(1., dtype=torch.float64))], [(tensor([4.1868, 1.0024], dtype=torch.float64), tensor(1., dtype=torch.float64)), (tensor([-1.5120, -3.0186], dtype=torch.float64), tensor(0., dtype=torch.float64))], [(tensor([1.6083, 3.7413], dtype=torch.float64), tensor(1., dtype=torch.float64)), (tensor([-3.1665, -2.6208], dtype=torch.float64), tensor(0., dtype=torch.float64))]]\n"
     ]
    },
    {
     "ename": "RuntimeError",
     "evalue": "dot : expected both vectors to have same dtype, but found Float and Double",
     "output_type": "error",
     "traceback": [
      "\u001b[1;31m---------------------------------------------------------------------------\u001b[0m",
      "\u001b[1;31mRuntimeError\u001b[0m                              Traceback (most recent call last)",
      "Cell \u001b[1;32mIn[69], line 7\u001b[0m\n\u001b[0;32m      5\u001b[0m \u001b[38;5;28mprint\u001b[39m(\u001b[38;5;124m'\u001b[39m\u001b[38;5;124m1, dataset\u001b[39m\u001b[38;5;124m'\u001b[39m)\n\u001b[0;32m      6\u001b[0m \u001b[38;5;28mprint\u001b[39m(dataset)\n\u001b[1;32m----> 7\u001b[0m model \u001b[38;5;241m=\u001b[39m \u001b[43mbatched_gradient_descent\u001b[49m\u001b[43m(\u001b[49m\u001b[43mdataset\u001b[49m\u001b[43m)\u001b[49m\n\u001b[0;32m      9\u001b[0m \u001b[38;5;66;03m# still not a runnable test because of tensor type in extract_num_features()\u001b[39;00m\n\u001b[0;32m     10\u001b[0m \u001b[38;5;66;03m# see Luke's 10/25 new version and test\u001b[39;00m\n\u001b[0;32m     12\u001b[0m weights \u001b[38;5;241m=\u001b[39m model\u001b[38;5;241m.\u001b[39mweights\u001b[38;5;241m.\u001b[39mdetach()\u001b[38;5;241m.\u001b[39mnumpy()\u001b[38;5;241m.\u001b[39mflatten()\n",
      "Cell \u001b[1;32mIn[65], line 15\u001b[0m, in \u001b[0;36mbatched_gradient_descent\u001b[1;34m(dataset, num_epochs, learning_rate, batch_size)\u001b[0m\n\u001b[0;32m     13\u001b[0m optimizer\u001b[38;5;241m.\u001b[39mzero_grad()\n\u001b[0;32m     14\u001b[0m \u001b[38;5;28;01mfor\u001b[39;00m d_x, d_y \u001b[38;5;129;01min\u001b[39;00m batch:      \u001b[38;5;66;03m# loop inside batch\u001b[39;00m\n\u001b[1;32m---> 15\u001b[0m     prediction \u001b[38;5;241m=\u001b[39m \u001b[43mmodel\u001b[49m\u001b[43m(\u001b[49m\u001b[43md_x\u001b[49m\u001b[43m)\u001b[49m\n\u001b[0;32m     16\u001b[0m     loss \u001b[38;5;241m=\u001b[39m loss_fn(prediction, d_y)\n\u001b[0;32m     17\u001b[0m     loss\u001b[38;5;241m.\u001b[39mbackward()\n",
      "File \u001b[1;32mc:\\Users\\glori\\anaconda3\\envs\\lign167\\lib\\site-packages\\torch\\nn\\modules\\module.py:1553\u001b[0m, in \u001b[0;36mModule._wrapped_call_impl\u001b[1;34m(self, *args, **kwargs)\u001b[0m\n\u001b[0;32m   1551\u001b[0m     \u001b[38;5;28;01mreturn\u001b[39;00m \u001b[38;5;28mself\u001b[39m\u001b[38;5;241m.\u001b[39m_compiled_call_impl(\u001b[38;5;241m*\u001b[39margs, \u001b[38;5;241m*\u001b[39m\u001b[38;5;241m*\u001b[39mkwargs)  \u001b[38;5;66;03m# type: ignore[misc]\u001b[39;00m\n\u001b[0;32m   1552\u001b[0m \u001b[38;5;28;01melse\u001b[39;00m:\n\u001b[1;32m-> 1553\u001b[0m     \u001b[38;5;28;01mreturn\u001b[39;00m \u001b[38;5;28;43mself\u001b[39;49m\u001b[38;5;241;43m.\u001b[39;49m\u001b[43m_call_impl\u001b[49m\u001b[43m(\u001b[49m\u001b[38;5;241;43m*\u001b[39;49m\u001b[43margs\u001b[49m\u001b[43m,\u001b[49m\u001b[43m \u001b[49m\u001b[38;5;241;43m*\u001b[39;49m\u001b[38;5;241;43m*\u001b[39;49m\u001b[43mkwargs\u001b[49m\u001b[43m)\u001b[49m\n",
      "File \u001b[1;32mc:\\Users\\glori\\anaconda3\\envs\\lign167\\lib\\site-packages\\torch\\nn\\modules\\module.py:1562\u001b[0m, in \u001b[0;36mModule._call_impl\u001b[1;34m(self, *args, **kwargs)\u001b[0m\n\u001b[0;32m   1557\u001b[0m \u001b[38;5;66;03m# If we don't have any hooks, we want to skip the rest of the logic in\u001b[39;00m\n\u001b[0;32m   1558\u001b[0m \u001b[38;5;66;03m# this function, and just call forward.\u001b[39;00m\n\u001b[0;32m   1559\u001b[0m \u001b[38;5;28;01mif\u001b[39;00m \u001b[38;5;129;01mnot\u001b[39;00m (\u001b[38;5;28mself\u001b[39m\u001b[38;5;241m.\u001b[39m_backward_hooks \u001b[38;5;129;01mor\u001b[39;00m \u001b[38;5;28mself\u001b[39m\u001b[38;5;241m.\u001b[39m_backward_pre_hooks \u001b[38;5;129;01mor\u001b[39;00m \u001b[38;5;28mself\u001b[39m\u001b[38;5;241m.\u001b[39m_forward_hooks \u001b[38;5;129;01mor\u001b[39;00m \u001b[38;5;28mself\u001b[39m\u001b[38;5;241m.\u001b[39m_forward_pre_hooks\n\u001b[0;32m   1560\u001b[0m         \u001b[38;5;129;01mor\u001b[39;00m _global_backward_pre_hooks \u001b[38;5;129;01mor\u001b[39;00m _global_backward_hooks\n\u001b[0;32m   1561\u001b[0m         \u001b[38;5;129;01mor\u001b[39;00m _global_forward_hooks \u001b[38;5;129;01mor\u001b[39;00m _global_forward_pre_hooks):\n\u001b[1;32m-> 1562\u001b[0m     \u001b[38;5;28;01mreturn\u001b[39;00m \u001b[43mforward_call\u001b[49m\u001b[43m(\u001b[49m\u001b[38;5;241;43m*\u001b[39;49m\u001b[43margs\u001b[49m\u001b[43m,\u001b[49m\u001b[43m \u001b[49m\u001b[38;5;241;43m*\u001b[39;49m\u001b[38;5;241;43m*\u001b[39;49m\u001b[43mkwargs\u001b[49m\u001b[43m)\u001b[49m\n\u001b[0;32m   1564\u001b[0m \u001b[38;5;28;01mtry\u001b[39;00m:\n\u001b[0;32m   1565\u001b[0m     result \u001b[38;5;241m=\u001b[39m \u001b[38;5;28;01mNone\u001b[39;00m\n",
      "Cell \u001b[1;32mIn[7], line 61\u001b[0m, in \u001b[0;36mTorchLogisticClassifier.forward\u001b[1;34m(self, x_vector)\u001b[0m\n\u001b[0;32m     60\u001b[0m \u001b[38;5;28;01mdef\u001b[39;00m \u001b[38;5;21mforward\u001b[39m(\u001b[38;5;28mself\u001b[39m, x_vector):\n\u001b[1;32m---> 61\u001b[0m   logit \u001b[38;5;241m=\u001b[39m \u001b[43mtorch\u001b[49m\u001b[38;5;241;43m.\u001b[39;49m\u001b[43mdot\u001b[49m\u001b[43m(\u001b[49m\u001b[38;5;28;43mself\u001b[39;49m\u001b[38;5;241;43m.\u001b[39;49m\u001b[43mweights\u001b[49m\u001b[43m,\u001b[49m\u001b[43m \u001b[49m\u001b[43mx_vector\u001b[49m\u001b[43m)\u001b[49m\n\u001b[0;32m     62\u001b[0m   prob \u001b[38;5;241m=\u001b[39m torch\u001b[38;5;241m.\u001b[39msigmoid(logit)\n\u001b[0;32m     63\u001b[0m   \u001b[38;5;28;01mreturn\u001b[39;00m prob\n",
      "\u001b[1;31mRuntimeError\u001b[0m: dot : expected both vectors to have same dtype, but found Float and Double"
     ]
    }
   ],
   "source": [
    "x, y = create_test_data()\n",
    "x = torch.tensor(x)\n",
    "y = torch.tensor(y)\n",
    "dataset = list(zip(x, y))\n",
    "print('1, dataset')\n",
    "print(dataset)\n",
    "model = batched_gradient_descent(dataset)\n",
    "\n",
    "weights = model.weights.detach().numpy().flatten()\n",
    "plot_decision_boundary(weights, x, y)"
   ]
  },
  {
   "cell_type": "markdown",
   "metadata": {},
   "source": [
    "# Restart Problem 9\n",
    "\n",
    "Gloria \n",
    "\n",
    "Tyring to understand what `create_dataset()` does\n"
   ]
  },
  {
   "cell_type": "code",
   "execution_count": 24,
   "metadata": {},
   "outputs": [
    {
     "data": {
      "text/plain": [
       "([array([-2.05169634, -2.51758563]),\n",
       "  array([4.20951341, 4.15336279]),\n",
       "  array([ 4.29233727, -3.29268858]),\n",
       "  array([-3.85617005, -4.29646474]),\n",
       "  array([ 1.54223062, -3.69155697]),\n",
       "  array([ 2.6815849 , -0.88692678]),\n",
       "  array([-2.04320931,  2.27171493]),\n",
       "  array([ 2.72696634, -1.97146443]),\n",
       "  array([2.71025715, 0.74492776]),\n",
       "  array([-2.383074  , -3.68050611]),\n",
       "  array([ 2.21456062, -2.6749133 ]),\n",
       "  array([-0.94341758, -0.4881122 ]),\n",
       "  array([-1.91775033,  2.70985862]),\n",
       "  array([2.08994509, 2.53399731]),\n",
       "  array([1.86899148, 1.28807649]),\n",
       "  array([-1.6604434 , -1.29186552]),\n",
       "  array([-2.35366867, -0.82519106]),\n",
       "  array([1.73194408, 4.70363766]),\n",
       "  array([4.86250207, 4.53772845]),\n",
       "  array([1.92814345, 3.44852974]),\n",
       "  array([-0.02724199,  2.39365067]),\n",
       "  array([ 2.4523428 , -4.94696918]),\n",
       "  array([-4.1247445 ,  4.22229613]),\n",
       "  array([-2.97703689,  4.33166088]),\n",
       "  array([-4.50498638, -3.33003929]),\n",
       "  array([4.7398735 , 0.22847311]),\n",
       "  array([-2.86489692, -2.72809955]),\n",
       "  array([ 3.41328825, -4.06179957]),\n",
       "  array([ 2.78562307, -0.35938126]),\n",
       "  array([-1.72051138, -4.77656333]),\n",
       "  array([-4.50409844, -0.35225746]),\n",
       "  array([-0.61307219,  0.09228645]),\n",
       "  array([1.58562153, 0.76731887]),\n",
       "  array([-4.71428681,  1.45352524]),\n",
       "  array([2.39679848, 4.47491896]),\n",
       "  array([-3.39818862, -0.97527734]),\n",
       "  array([3.89470511, 4.83070069]),\n",
       "  array([-2.44440062,  2.8035017 ]),\n",
       "  array([ 0.82444727, -4.20199297]),\n",
       "  array([-2.65225935,  2.02031572]),\n",
       "  array([4.32461688, 0.68647812]),\n",
       "  array([ 1.65034366, -0.88439444]),\n",
       "  array([-1.42842713, -2.7505122 ]),\n",
       "  array([1.09662823, 4.91755995]),\n",
       "  array([-0.6300828 , -1.33479026]),\n",
       "  array([4.74393344, 0.5184178 ]),\n",
       "  array([1.24121604, 1.06357392]),\n",
       "  array([2.02934594, 0.24823952]),\n",
       "  array([-0.13663349,  4.18925026]),\n",
       "  array([-1.79194046,  1.34324912]),\n",
       "  array([-3.31527534,  3.01510888]),\n",
       "  array([-0.56948521,  1.64945669]),\n",
       "  array([-4.80912467, -4.71798436]),\n",
       "  array([-4.85540681,  3.97706153]),\n",
       "  array([ 0.21386959, -2.88903005]),\n",
       "  array([-1.42464005,  3.39735837]),\n",
       "  array([-0.55290201, -0.23449885]),\n",
       "  array([-0.90168148, -1.94247399]),\n",
       "  array([ 1.7605202 , -0.71754966]),\n",
       "  array([ 2.60390806, -2.55291874]),\n",
       "  array([ 0.94748583, -0.49450921]),\n",
       "  array([-4.17995183, -3.08739245]),\n",
       "  array([3.46657925, 2.18554963]),\n",
       "  array([-4.53534087,  3.27045569]),\n",
       "  array([ 3.87349901, -2.28608343]),\n",
       "  array([0.1984078 , 4.59048374]),\n",
       "  array([ 0.65919181, -1.36989781]),\n",
       "  array([-2.7905431 ,  2.06015969]),\n",
       "  array([-3.39305913, -3.68445397]),\n",
       "  array([-4.44436039,  4.2416749 ]),\n",
       "  array([-0.8073101 , -0.56710369]),\n",
       "  array([-2.23957205, -0.47645726]),\n",
       "  array([-3.47669419,  4.9623548 ]),\n",
       "  array([4.07960451, 3.02607492]),\n",
       "  array([ 2.64041352, -3.2384475 ]),\n",
       "  array([ 1.60216903, -2.67288201]),\n",
       "  array([-3.25356219,  2.62527754]),\n",
       "  array([ 4.24372514, -4.0388197 ]),\n",
       "  array([-1.95494554,  1.30363458]),\n",
       "  array([-1.68566668,  4.78522453]),\n",
       "  array([0.30197883, 0.10313033]),\n",
       "  array([-0.56450046, -3.59277031]),\n",
       "  array([4.95811134, 3.14616683]),\n",
       "  array([ 3.87269104, -3.75671019]),\n",
       "  array([-4.34086925,  2.02104452]),\n",
       "  array([ 2.48611069, -3.59872778]),\n",
       "  array([-3.55360185, -3.19070389]),\n",
       "  array([ 1.91173008, -1.30310621]),\n",
       "  array([2.99112029, 2.17372784]),\n",
       "  array([4.41982153, 1.30817333]),\n",
       "  array([ 1.13283041, -0.08898712]),\n",
       "  array([-0.89188188, -4.36995598]),\n",
       "  array([-2.32890346, -1.87770161]),\n",
       "  array([-0.05765895,  2.39686503]),\n",
       "  array([-4.04548258,  1.84173671]),\n",
       "  array([0.28860954, 0.4930023 ]),\n",
       "  array([-4.51370994, -0.44869647]),\n",
       "  array([-1.61103607, -1.9700354 ]),\n",
       "  array([ 3.31370498, -3.32513346]),\n",
       "  array([-0.45493633, -1.95907528])],\n",
       " array([0., 1., 1., 0., 0., 1., 1., 1., 1., 0., 0., 0., 1., 1., 1., 0., 0.,\n",
       "        1., 1., 1., 1., 0., 0., 1., 0., 1., 0., 0., 1., 0., 0., 0., 1., 0.,\n",
       "        1., 0., 1., 1., 0., 0., 1., 1., 0., 1., 0., 1., 1., 1., 1., 0., 0.,\n",
       "        1., 0., 0., 0., 1., 0., 0., 1., 1., 1., 0., 1., 0., 1., 1., 0., 0.,\n",
       "        0., 0., 0., 0., 1., 1., 0., 0., 0., 0., 0., 1., 1., 0., 1., 1., 0.,\n",
       "        0., 0., 1., 1., 1., 1., 0., 0., 1., 0., 1., 0., 0., 1., 0.]))"
      ]
     },
     "execution_count": 24,
     "metadata": {},
     "output_type": "execute_result"
    }
   ],
   "source": [
    "ex_dataset = create_dataset()\n",
    "ex_dataset"
   ]
  },
  {
   "cell_type": "code",
   "execution_count": 26,
   "metadata": {},
   "outputs": [
    {
     "data": {
      "text/plain": [
       "2"
      ]
     },
     "execution_count": 26,
     "metadata": {},
     "output_type": "execute_result"
    }
   ],
   "source": [
    "len(ex_dataset)"
   ]
  },
  {
   "cell_type": "code",
   "execution_count": 27,
   "metadata": {},
   "outputs": [
    {
     "data": {
      "text/plain": [
       "100"
      ]
     },
     "execution_count": 27,
     "metadata": {},
     "output_type": "execute_result"
    }
   ],
   "source": [
    "len(ex_dataset[0])"
   ]
  },
  {
   "cell_type": "markdown",
   "metadata": {},
   "source": [
    "The function outputs a dataset of 100 points. The output format is a tuple (x,y), each of length 100.\n",
    "\n",
    "Now trying to understanding what `generate_nonbatched_data()` does"
   ]
  },
  {
   "cell_type": "code",
   "execution_count": 37,
   "metadata": {},
   "outputs": [
    {
     "data": {
      "text/plain": [
       "[(tensor([-0.5939,  1.1233,  1.8531]), tensor([0.])),\n",
       " (tensor([ 0.7341,  0.4655, -0.0280]), tensor([0.])),\n",
       " (tensor([ 0.4364, -2.3818, -1.0300]), tensor([1.])),\n",
       " (tensor([ 0.2062, -0.2134, -1.2126]), tensor([0.])),\n",
       " (tensor([-0.2113,  0.8279, -0.7842]), tensor([1.])),\n",
       " (tensor([ 0.4209,  0.5139, -0.7569]), tensor([1.])),\n",
       " (tensor([-0.7143,  1.1771,  0.1155]), tensor([1.])),\n",
       " (tensor([0.8745, 1.1663, 0.1936]), tensor([0.])),\n",
       " (tensor([ 1.1355,  0.2191, -0.9418]), tensor([1.])),\n",
       " (tensor([0.9344, 1.0113, 0.4482]), tensor([0.])),\n",
       " (tensor([-1.4086,  2.3455,  0.0729]), tensor([0.])),\n",
       " (tensor([ 0.3178, -0.7509, -2.3187]), tensor([1.])),\n",
       " (tensor([-1.4464,  0.9811,  0.1185]), tensor([1.])),\n",
       " (tensor([ 1.5596, -1.5853, -0.3779]), tensor([0.])),\n",
       " (tensor([-0.6862, -0.7388,  0.4241]), tensor([0.])),\n",
       " (tensor([1.5758, 0.5534, 0.6185]), tensor([0.])),\n",
       " (tensor([0.9973, 1.0333, 0.2982]), tensor([1.])),\n",
       " (tensor([0.3107, 0.0841, 0.1900]), tensor([0.])),\n",
       " (tensor([ 1.6972,  0.5985, -0.4989]), tensor([1.])),\n",
       " (tensor([ 0.3274, -2.3876,  0.4372]), tensor([1.])),\n",
       " (tensor([0.8077, 0.8229, 0.2610]), tensor([1.])),\n",
       " (tensor([ 1.1224,  0.9049, -0.7415]), tensor([1.])),\n",
       " (tensor([ 0.6389, -0.7392,  0.1586]), tensor([1.])),\n",
       " (tensor([-0.4625, -1.2993,  0.6245]), tensor([1.])),\n",
       " (tensor([-1.0572,  0.4415, -0.5959]), tensor([0.])),\n",
       " (tensor([ 0.6679,  0.5875, -2.3181]), tensor([0.])),\n",
       " (tensor([-1.1081,  0.0452, -0.7872]), tensor([0.])),\n",
       " (tensor([-0.5759,  2.3518, -0.6118]), tensor([0.])),\n",
       " (tensor([0.1191, 0.3216, 1.5552]), tensor([1.])),\n",
       " (tensor([-0.1628, -0.6272, -0.3094]), tensor([0.])),\n",
       " (tensor([-1.4100,  1.6397,  0.0650]), tensor([1.])),\n",
       " (tensor([-2.0542, -0.7508,  0.1247]), tensor([0.])),\n",
       " (tensor([ 0.3991, -0.9785, -2.4558]), tensor([1.])),\n",
       " (tensor([ 0.9361, -0.7502, -1.2236]), tensor([1.])),\n",
       " (tensor([-0.5503,  0.2787, -0.6209]), tensor([1.])),\n",
       " (tensor([-0.3317, -1.5171,  0.7611]), tensor([1.])),\n",
       " (tensor([-1.3285, -0.5731, -0.8306]), tensor([1.])),\n",
       " (tensor([1.2071, 0.2354, 0.3273]), tensor([0.])),\n",
       " (tensor([-0.4347,  1.0858,  0.3384]), tensor([1.])),\n",
       " (tensor([-0.0695,  0.2111,  1.2009]), tensor([1.])),\n",
       " (tensor([ 1.2803, -0.9814,  1.9247]), tensor([0.])),\n",
       " (tensor([ 0.6112,  0.3600, -1.1275]), tensor([1.])),\n",
       " (tensor([0.4234, 0.8187, 0.7869]), tensor([1.])),\n",
       " (tensor([-1.3817, -0.6040,  0.7942]), tensor([1.])),\n",
       " (tensor([ 0.5410, -1.0831, -0.0895]), tensor([1.])),\n",
       " (tensor([-1.0699, -0.2656,  1.1138]), tensor([1.])),\n",
       " (tensor([ 1.2334,  0.0029, -1.3912]), tensor([0.])),\n",
       " (tensor([-0.8652, -0.4032,  0.5470]), tensor([1.])),\n",
       " (tensor([ 0.2395,  1.4351, -0.7057]), tensor([0.])),\n",
       " (tensor([ 1.1683, -0.1903,  1.8466]), tensor([1.])),\n",
       " (tensor([-0.9223, -1.2273, -1.9008]), tensor([0.])),\n",
       " (tensor([-0.6519,  0.0664, -0.5569]), tensor([0.])),\n",
       " (tensor([-0.0330, -0.2337, -0.5307]), tensor([1.])),\n",
       " (tensor([-0.5672,  1.6311, -1.7494]), tensor([1.])),\n",
       " (tensor([0.1466, 0.5784, 2.2090]), tensor([0.])),\n",
       " (tensor([1.5664, 0.5391, 0.0620]), tensor([0.])),\n",
       " (tensor([-0.9955,  0.4372,  0.8296]), tensor([1.])),\n",
       " (tensor([ 0.0411, -0.5655, -0.5919]), tensor([0.])),\n",
       " (tensor([ 2.1085,  0.7073, -1.0232]), tensor([1.])),\n",
       " (tensor([-0.4836, -0.1179, -0.8542]), tensor([0.])),\n",
       " (tensor([ 0.1937, -0.4199,  1.2055]), tensor([1.])),\n",
       " (tensor([ 0.4564, -0.2226,  0.3488]), tensor([0.])),\n",
       " (tensor([ 0.6120, -2.3144, -0.7543]), tensor([1.])),\n",
       " (tensor([-1.1825,  1.2314,  2.0366]), tensor([0.])),\n",
       " (tensor([ 0.3845, -0.6543, -0.6203]), tensor([0.])),\n",
       " (tensor([-0.9768,  1.6076,  0.2502]), tensor([1.])),\n",
       " (tensor([-2.1484,  0.8525, -1.5174]), tensor([0.])),\n",
       " (tensor([0.4079, 0.4608, 1.4049]), tensor([0.])),\n",
       " (tensor([-0.4753,  0.8220,  0.6711]), tensor([0.])),\n",
       " (tensor([-1.1798,  0.7101, -0.8752]), tensor([0.])),\n",
       " (tensor([ 0.5816, -2.0327,  0.2070]), tensor([1.])),\n",
       " (tensor([0.3961, 0.3320, 0.6466]), tensor([0.])),\n",
       " (tensor([-0.6176, -1.9718, -0.3273]), tensor([1.])),\n",
       " (tensor([ 2.2253, -1.9851, -0.8457]), tensor([1.])),\n",
       " (tensor([-0.4345,  1.3489,  0.1071]), tensor([0.])),\n",
       " (tensor([-0.3074,  0.5260,  0.0236]), tensor([1.])),\n",
       " (tensor([ 0.4830,  0.5011, -0.3040]), tensor([1.])),\n",
       " (tensor([-0.5245, -0.5044,  0.2380]), tensor([1.])),\n",
       " (tensor([ 0.7622, -2.4017, -1.3211]), tensor([1.])),\n",
       " (tensor([ 1.7564, -1.5166,  1.1721]), tensor([1.])),\n",
       " (tensor([ 1.1214, -0.6136,  0.3529]), tensor([1.])),\n",
       " (tensor([-0.1157,  0.5724, -0.0402]), tensor([0.])),\n",
       " (tensor([-0.5958,  0.6905,  0.3631]), tensor([1.])),\n",
       " (tensor([ 0.1243,  0.5614, -1.2956]), tensor([0.])),\n",
       " (tensor([-0.0258,  0.7532,  1.3540]), tensor([1.])),\n",
       " (tensor([ 0.1519, -0.0352,  0.5969]), tensor([1.])),\n",
       " (tensor([ 0.0950, -0.1040, -1.5550]), tensor([0.])),\n",
       " (tensor([ 0.8031, -0.0082, -0.2868]), tensor([1.])),\n",
       " (tensor([ 0.5344,  0.1865, -0.3396]), tensor([0.])),\n",
       " (tensor([ 0.6372,  1.5163, -1.2722]), tensor([0.])),\n",
       " (tensor([ 0.0038, -0.6390, -0.7589]), tensor([1.])),\n",
       " (tensor([-0.3556, -1.8728, -0.4395]), tensor([1.])),\n",
       " (tensor([-1.4546,  0.0641,  0.4616]), tensor([1.])),\n",
       " (tensor([ 0.5981, -0.1859,  0.4772]), tensor([1.])),\n",
       " (tensor([-0.8657, -1.2286, -1.3075]), tensor([0.])),\n",
       " (tensor([ 0.3716,  0.5788, -1.5476]), tensor([0.])),\n",
       " (tensor([ 0.6402,  0.0256, -1.1144]), tensor([1.])),\n",
       " (tensor([-1.2231,  1.7813, -0.4628]), tensor([1.])),\n",
       " (tensor([-1.2903,  1.5010, -1.4165]), tensor([1.])),\n",
       " (tensor([1.3214, 0.6260, 0.7426]), tensor([1.]))]"
      ]
     },
     "execution_count": 37,
     "metadata": {},
     "output_type": "execute_result"
    }
   ],
   "source": [
    "generate_nonbatched_data()"
   ]
  },
  {
   "cell_type": "markdown",
   "metadata": {},
   "source": [
    "Output format is a list, and each element is a tuple (x,y). The values are tensor type. \n",
    "\n",
    "The two data-creation functions give different format output.\n",
    "\n",
    "`batched_gradient_descent` is similar to `nonbatched_gradient_descent` (from starter code) so the input format should be similar to what `generate_nonbatched_data` gives. "
   ]
  },
  {
   "cell_type": "code",
   "execution_count": 40,
   "metadata": {},
   "outputs": [
    {
     "data": {
      "text/plain": [
       "[[(tensor([ 0.7410,  0.5838, -0.5427]), tensor([0.])),\n",
       "  (tensor([-0.2499,  0.1213,  0.7963]), tensor([1.]))],\n",
       " [(tensor([ 1.0427,  0.6489, -0.4001]), tensor([0.])),\n",
       "  (tensor([-1.3248,  0.6258, -0.1959]), tensor([0.]))],\n",
       " [(tensor([ 2.7647, -1.1907, -1.3620]), tensor([0.])),\n",
       "  (tensor([-0.9214,  0.1165, -0.6030]), tensor([0.]))],\n",
       " [(tensor([-5.2294e-01,  1.4905e+00, -7.4396e-04]), tensor([1.])),\n",
       "  (tensor([ 1.4190, -1.9133, -0.8748]), tensor([0.]))],\n",
       " [(tensor([-0.6773, -0.3015, -2.6308]), tensor([0.])),\n",
       "  (tensor([0.8974, 0.0485, 0.1362]), tensor([0.]))],\n",
       " [(tensor([ 0.1094, -1.0569,  0.1734]), tensor([1.])),\n",
       "  (tensor([-0.5651,  0.2365, -1.7877]), tensor([0.]))],\n",
       " [(tensor([ 3.0147, -0.4862,  0.2942]), tensor([0.])),\n",
       "  (tensor([-0.3457, -0.3382,  0.5340]), tensor([0.]))],\n",
       " [(tensor([ 0.1763,  0.0535, -2.1722]), tensor([1.])),\n",
       "  (tensor([-0.6006,  0.5425,  0.2891]), tensor([1.]))],\n",
       " [(tensor([ 0.9475, -0.0797,  0.1866]), tensor([0.])),\n",
       "  (tensor([ 0.3637, -1.5270,  1.0544]), tensor([0.]))],\n",
       " [(tensor([-1.2516, -0.0914, -1.9972]), tensor([1.])),\n",
       "  (tensor([ 0.2757, -0.4948,  0.8379]), tensor([1.]))],\n",
       " [(tensor([-0.2644, -1.0258, -1.3137]), tensor([1.])),\n",
       "  (tensor([0.0472, 0.0014, 0.3793]), tensor([1.]))],\n",
       " [(tensor([1.6046, 0.4215, 1.0836]), tensor([1.])),\n",
       "  (tensor([-0.0758,  0.3202,  0.1494]), tensor([1.]))],\n",
       " [(tensor([ 1.5525, -1.0255, -0.7766]), tensor([1.])),\n",
       "  (tensor([ 0.4204, -0.4956,  1.4306]), tensor([1.]))],\n",
       " [(tensor([ 0.3530, -0.0584,  1.0551]), tensor([1.])),\n",
       "  (tensor([ 1.3117, -0.4319, -0.5362]), tensor([0.]))],\n",
       " [(tensor([-0.6461, -0.0341,  0.0092]), tensor([0.])),\n",
       "  (tensor([-0.9598, -0.0611,  0.7511]), tensor([0.]))],\n",
       " [(tensor([0.0736, 0.2632, 0.2478]), tensor([1.])),\n",
       "  (tensor([-0.4087,  0.3465, -1.6955]), tensor([1.]))],\n",
       " [(tensor([0.4066, 1.0302, 0.5192]), tensor([0.])),\n",
       "  (tensor([ 0.2118,  1.4222, -0.1248]), tensor([0.]))],\n",
       " [(tensor([ 2.4832, -0.3301,  1.0833]), tensor([0.])),\n",
       "  (tensor([ 3.2118,  0.4961, -0.3001]), tensor([1.]))],\n",
       " [(tensor([-1.3356, -0.6138,  1.1041]), tensor([0.])),\n",
       "  (tensor([ 1.6793, -1.3086, -0.3002]), tensor([0.]))],\n",
       " [(tensor([-1.7460, -2.1455, -1.2741]), tensor([1.])),\n",
       "  (tensor([ 0.2001, -1.4984,  0.4343]), tensor([0.]))],\n",
       " [(tensor([-0.8593, -0.8758,  0.4591]), tensor([1.])),\n",
       "  (tensor([ 1.4936, -0.2444,  1.8037]), tensor([1.]))],\n",
       " [(tensor([ 0.1034, -0.7188, -0.6839]), tensor([0.])),\n",
       "  (tensor([0.9146, 0.4674, 0.6198]), tensor([1.]))],\n",
       " [(tensor([-0.7569,  0.6787, -0.6148]), tensor([1.])),\n",
       "  (tensor([-1.5143,  0.2228,  2.4046]), tensor([1.]))],\n",
       " [(tensor([-0.5719, -0.5011,  0.9415]), tensor([0.])),\n",
       "  (tensor([-0.4427,  1.8128, -0.3615]), tensor([1.]))],\n",
       " [(tensor([-0.9500,  0.0252, -0.2321]), tensor([0.])),\n",
       "  (tensor([ 0.8474, -1.6319,  0.0712]), tensor([1.]))],\n",
       " [(tensor([-1.5929,  0.7903, -0.2248]), tensor([0.])),\n",
       "  (tensor([ 1.0484, -1.4606,  0.0414]), tensor([0.]))],\n",
       " [(tensor([ 0.3455, -0.8072, -0.6749]), tensor([0.])),\n",
       "  (tensor([1.9135, 1.6288, 0.8634]), tensor([1.]))],\n",
       " [(tensor([-0.2581, -1.1748,  1.0005]), tensor([0.])),\n",
       "  (tensor([-0.0925,  0.7129,  1.0744]), tensor([1.]))],\n",
       " [(tensor([-2.3949, -0.0447,  1.9456]), tensor([0.])),\n",
       "  (tensor([ 1.3803, -1.7233, -0.2371]), tensor([1.]))],\n",
       " [(tensor([ 0.2200,  0.7200, -0.1597]), tensor([1.])),\n",
       "  (tensor([0.3679, 0.9323, 1.2503]), tensor([1.]))],\n",
       " [(tensor([-1.2864, -1.7508,  0.0209]), tensor([0.])),\n",
       "  (tensor([0.1928, 0.6233, 0.5970]), tensor([1.]))],\n",
       " [(tensor([-0.3361, -2.0947,  1.4384]), tensor([1.])),\n",
       "  (tensor([ 0.7759,  0.1469, -0.4852]), tensor([0.]))],\n",
       " [(tensor([ 0.4658,  1.1520, -0.3462]), tensor([0.])),\n",
       "  (tensor([1.4609, 0.0108, 0.3888]), tensor([1.]))],\n",
       " [(tensor([-1.0954, -0.4241,  0.3941]), tensor([0.])),\n",
       "  (tensor([ 1.7689, -0.1235, -1.5402]), tensor([0.]))],\n",
       " [(tensor([ 0.4920,  1.9813, -0.2548]), tensor([0.])),\n",
       "  (tensor([ 0.5279, -0.3263, -0.7736]), tensor([1.]))],\n",
       " [(tensor([-2.0613,  1.6847, -0.7940]), tensor([1.])),\n",
       "  (tensor([-0.3197, -0.4847, -0.1376]), tensor([1.]))],\n",
       " [(tensor([-0.4545, -0.9320,  0.8036]), tensor([0.])),\n",
       "  (tensor([ 1.0505,  1.3800, -0.8143]), tensor([0.]))],\n",
       " [(tensor([ 0.1168,  0.3958, -1.8198]), tensor([1.])),\n",
       "  (tensor([-0.0930, -0.5146,  0.0143]), tensor([1.]))],\n",
       " [(tensor([ 0.8394,  1.2939, -0.0520]), tensor([1.])),\n",
       "  (tensor([-0.6223,  0.0357, -0.1089]), tensor([1.]))],\n",
       " [(tensor([ 0.7599, -0.9185, -0.1329]), tensor([1.])),\n",
       "  (tensor([ 0.9842, -1.7145, -0.2696]), tensor([0.]))],\n",
       " [(tensor([-0.7674,  0.0566, -1.5402]), tensor([0.])),\n",
       "  (tensor([ 0.4773, -1.0891, -0.3979]), tensor([0.]))],\n",
       " [(tensor([-2.0668,  1.3083,  0.1021]), tensor([0.])),\n",
       "  (tensor([-0.3503, -1.6820, -1.1656]), tensor([0.]))],\n",
       " [(tensor([-0.6710, -1.2503,  1.8185]), tensor([1.])),\n",
       "  (tensor([ 0.0970, -0.8686, -0.6458]), tensor([1.]))],\n",
       " [(tensor([0.9899, 0.8315, 1.3615]), tensor([1.])),\n",
       "  (tensor([-0.3596, -0.4533, -0.1377]), tensor([0.]))],\n",
       " [(tensor([-0.0833, -1.0063, -1.3201]), tensor([0.])),\n",
       "  (tensor([-0.6929,  0.4313, -0.5346]), tensor([0.]))],\n",
       " [(tensor([0.2102, 1.3450, 0.0909]), tensor([0.])),\n",
       "  (tensor([1.1334, 0.3923, 0.3122]), tensor([1.]))],\n",
       " [(tensor([-0.8757, -0.1566, -0.7528]), tensor([1.])),\n",
       "  (tensor([-0.8603,  1.6869, -0.0571]), tensor([0.]))],\n",
       " [(tensor([0.5866, 0.8054, 0.8646]), tensor([0.])),\n",
       "  (tensor([0.0330, 0.3790, 0.8005]), tensor([1.]))],\n",
       " [(tensor([-1.6539, -0.1713, -1.7340]), tensor([0.])),\n",
       "  (tensor([-0.0988,  1.3559,  1.5112]), tensor([0.]))],\n",
       " [(tensor([-0.2605, -0.0106,  0.1441]), tensor([1.])),\n",
       "  (tensor([ 0.1760, -0.5874,  0.8986]), tensor([1.]))]]"
      ]
     },
     "execution_count": 40,
     "metadata": {},
     "output_type": "execute_result"
    }
   ],
   "source": [
    "split_into_batches(generate_nonbatched_data(), batch_size=2)"
   ]
  },
  {
   "cell_type": "markdown",
   "metadata": {},
   "source": [
    "#### Ash"
   ]
  },
  {
   "cell_type": "code",
   "execution_count": 7,
   "metadata": {},
   "outputs": [
    {
     "ename": "NameError",
     "evalue": "name 'batch_sizes' is not defined",
     "output_type": "error",
     "traceback": [
      "\u001b[1;31m---------------------------------------------------------------------------\u001b[0m",
      "\u001b[1;31mNameError\u001b[0m                                 Traceback (most recent call last)",
      "Cell \u001b[1;32mIn[7], line 1\u001b[0m\n\u001b[1;32m----> 1\u001b[0m \u001b[38;5;28;01mfor\u001b[39;00m idx, batch_size \u001b[38;5;129;01min\u001b[39;00m \u001b[38;5;28menumerate\u001b[39m(\u001b[43mbatch_sizes\u001b[49m, \u001b[38;5;241m1\u001b[39m):\n\u001b[0;32m      2\u001b[0m         \u001b[38;5;28mprint\u001b[39m(\u001b[38;5;124mf\u001b[39m\u001b[38;5;124m\"\u001b[39m\u001b[38;5;130;01m\\n\u001b[39;00m\u001b[38;5;124mTraining with batch size: \u001b[39m\u001b[38;5;132;01m{\u001b[39;00mbatch_size\u001b[38;5;132;01m}\u001b[39;00m\u001b[38;5;124m\"\u001b[39m)\n\u001b[0;32m      4\u001b[0m         \u001b[38;5;66;03m# Train model\u001b[39;00m\n",
      "\u001b[1;31mNameError\u001b[0m: name 'batch_sizes' is not defined"
     ]
    }
   ],
   "source": [
    "for idx, batch_size in enumerate(batch_sizes, 1):\n",
    "        print(f\"\\nTraining with batch size: {batch_size}\")\n",
    "        \n",
    "        # Train model\n",
    "        model = batched_gradient_descent(\n",
    "            dataset=dataset,\n",
    "            num_epochs=num_epochs,\n",
    "            learning_rate=learning_rate,\n",
    "            batch_size=batch_size\n",
    "        )\n",
    "        \n",
    "        # Plot decision boundary\n",
    "        plt.subplot(1, 3, idx)\n",
    "        plot_decision_boundary(model, X, y)\n",
    "        plt.title(f'Batch Size = {batch_size}')\n",
    "    \n"
   ]
  },
  {
   "cell_type": "markdown",
   "metadata": {},
   "source": []
  }
 ],
 "metadata": {
  "kernelspec": {
   "display_name": "lign167",
   "language": "python",
   "name": "python3"
  },
  "language_info": {
   "codemirror_mode": {
    "name": "ipython",
    "version": 3
   },
   "file_extension": ".py",
   "mimetype": "text/x-python",
   "name": "python",
   "nbconvert_exporter": "python",
   "pygments_lexer": "ipython3",
   "version": "3.8.19"
  }
 },
 "nbformat": 4,
 "nbformat_minor": 2
}
