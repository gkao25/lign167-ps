{
 "cells": [
  {
   "cell_type": "code",
   "execution_count": 1,
   "metadata": {},
   "outputs": [],
   "source": [
    "import numpy as np\n",
    "from numpy.random import randn\n",
    "import matplotlib.pyplot as plt"
   ]
  },
  {
   "cell_type": "code",
   "execution_count": 2,
   "metadata": {},
   "outputs": [],
   "source": [
    "# test values\n",
    "x = [1,2,3]\n",
    "y = [2,3,4]\n"
   ]
  },
  {
   "cell_type": "code",
   "execution_count": 3,
   "metadata": {},
   "outputs": [],
   "source": [
    "def compute_slope_estimator(x_vals,y_vals):\n",
    "    n = len(x_vals)\n",
    "    mean_x = np.mean(x_vals)\n",
    "    mean_y = np.mean(y_vals)\n",
    "    top = np.dot(x_vals, y_vals) - n*mean_x*mean_y\n",
    "    bottom = np.dot(x_vals, x) - n*mean_x*mean_x\n",
    "    return top / bottom"
   ]
  },
  {
   "cell_type": "code",
   "execution_count": 4,
   "metadata": {},
   "outputs": [
    {
     "data": {
      "text/plain": [
       "1.0"
      ]
     },
     "execution_count": 4,
     "metadata": {},
     "output_type": "execute_result"
    }
   ],
   "source": [
    "compute_slope_estimator(x, y)"
   ]
  },
  {
   "cell_type": "code",
   "execution_count": 5,
   "metadata": {},
   "outputs": [],
   "source": [
    "#Problem 2\n",
    "def compute_intercept_estimator(x_vals,y_vals):\n",
    "    n = len(x_vals)\n",
    "    mean_x = np.mean(x_vals)\n",
    "    mean_y = np.mean(y_vals)\n",
    "    a = compute_slope_estimator(x_vals, y_vals)\n",
    "    return mean_y - a * mean_x"
   ]
  },
  {
   "cell_type": "code",
   "execution_count": 6,
   "metadata": {},
   "outputs": [
    {
     "data": {
      "text/plain": [
       "1.0"
      ]
     },
     "execution_count": 6,
     "metadata": {},
     "output_type": "execute_result"
    }
   ],
   "source": [
    "compute_intercept_estimator(x, y)"
   ]
  },
  {
   "cell_type": "code",
   "execution_count": 7,
   "metadata": {},
   "outputs": [],
   "source": [
    "#Problem 3\n",
    "def train_model(x_vals,y_vals):\n",
    "    a = compute_slope_estimator(x_vals, y_vals)\n",
    "    b = compute_intercept_estimator(x_vals, y_vals)\n",
    "    return (a,b)"
   ]
  },
  {
   "cell_type": "code",
   "execution_count": 8,
   "metadata": {},
   "outputs": [
    {
     "data": {
      "text/plain": [
       "(1.0, 1.0)"
      ]
     },
     "execution_count": 8,
     "metadata": {},
     "output_type": "execute_result"
    }
   ],
   "source": [
    "train_model(x,y)"
   ]
  },
  {
   "cell_type": "code",
   "execution_count": 9,
   "metadata": {},
   "outputs": [],
   "source": [
    "#Problem 4\n",
    "def dL_da(x_vals,y_vals,a,b):\n",
    "    n = len(x_vals)\n",
    "    d = np.sum(2*(y_vals-a*x_vals-b)*(-x_vals))\n",
    "    return 1/n*d"
   ]
  },
  {
   "cell_type": "code",
   "execution_count": 9,
   "metadata": {},
   "outputs": [],
   "source": [
    "#Problem 5\n",
    "def dL_db(x_vals,y_vals,a,b):\n",
    "    n = len(x_vals)\n",
    "    d = np.sum(2*(y_vals-a*x_vals-b)*(-1))\n",
    "    return 1/n*d"
   ]
  },
  {
   "cell_type": "code",
   "execution_count": 10,
   "metadata": {},
   "outputs": [],
   "source": [
    "#Problem 6\n",
    "def gradient_descent_step(x_vals,y_vals,a,b,k=0.01):\n",
    "    n = len(x_vals)\n",
    "    a_updated = a - k/n * dL_da(x_vals, y_vals, a, b)\n",
    "    b_updated = b - k/n * dL_db(x_vals, y_vals, a, b)\n",
    "    return (a_updated, b_updated)"
   ]
  },
  {
   "cell_type": "code",
   "execution_count": 11,
   "metadata": {},
   "outputs": [],
   "source": [
    "#Problem 7\n",
    "def gradient_descent(x_vals,y_vals,a_0=0,b_0=0,k=1000):\n",
    "    a_k = a_0\n",
    "    b_k = b_0\n",
    "    for i in range(k):\n",
    "        a_k, b_k = gradient_descent_step(x_vals, y_vals, a_0, b_0)\n",
    "    return (a_k, b_k)"
   ]
  },
  {
   "cell_type": "code",
   "execution_count": 12,
   "metadata": {},
   "outputs": [],
   "source": [
    "# Problem 8\n",
    "def fit_quadratic(x_vals, y_vals):\n",
    "    n = len(x_vals)\n",
    "    x_sq = np.square(x_vals)\n",
    "    a = compute_slope_estimator(x_sq, y_vals)\n",
    "    b = compute_intercept_estimator(x_sq, y_vals)\n",
    "    return (a, b)"
   ]
  },
  {
   "cell_type": "code",
   "execution_count": 11,
   "metadata": {},
   "outputs": [],
   "source": [
    "# Problem 9\n",
    "def calculate_scaling_parameters(d_vals, l_vals):\n",
    "    log_d = np.log2(d_vals)\n",
    "    a, b = np.polyfit(log_d, l_vals, 1)\n",
    "    return (a, b)"
   ]
  },
  {
   "cell_type": "code",
   "execution_count": 12,
   "metadata": {},
   "outputs": [],
   "source": [
    "## Additional functions\n",
    "\n",
    "def generate_y_vals(x_vals, a=1, b=0, std_dev=0, f=lambda x: x, g_inverse=lambda y: y):\n",
    "    \"\"\"\n",
    "    Generates noisy output data where g(y) has a linear relationship with f(x).\n",
    "\n",
    "    Parameters:\n",
    "    x_vals (numpy array): The observed values of the independent variable x.\n",
    "    a (float): Scaling factor applied to f(x). Default is 1.\n",
    "    b (float): Bias or intercept term added to a*f(x). Default is 0.\n",
    "    std_dev (float): Standard deviation of the normally distributed noise added to a*f(x)+b. Default is 0 (no noise).\n",
    "    f (function): Transformation applied to x. Default is the identity function (no transformation).\n",
    "    g_inverse (function): The inverse of the transformation applied to y. Default is the identity function (no transformation).\n",
    "\n",
    "    Returns:\n",
    "    y_vals (numpy array): The noisy observed output values.\n",
    "    \"\"\"\n",
    "    # Number of observations (length of the input array x_obs)\n",
    "    n = len(x_vals)\n",
    "\n",
    "    # Generate normally distributed noise with mean 0 and standard deviation `std_dev`\n",
    "    errors = np.random.normal(0, std_dev, size=n)\n",
    "\n",
    "    # Compute the output y using the formula: y = g_inverse(a * f(x) + b + errors)\n",
    "    y_vals = g_inverse(a * f(x_vals) + b + errors)\n",
    "\n",
    "    return y_vals"
   ]
  },
  {
   "cell_type": "code",
   "execution_count": 13,
   "metadata": {},
   "outputs": [],
   "source": [
    "def plot_generated_data(x_vals, y_vals, scaled=False, f=lambda x: x, g=lambda y: y):\n",
    "    \"\"\"\n",
    "    Plots the data, either transformed (if scaled=True) or untransformed (if scaled=False),\n",
    "    allowing a linear relationship to be visualized when transformations are applied.\n",
    "\n",
    "    Parameters:\n",
    "    x_vals (numpy array): The observed values of the independent variable x.\n",
    "    y_vals (numpy array): The observed values of the dependent variable y.\n",
    "    scaled (bool): If True, plot the transformed data (f(x) vs g(y)), otherwise plot untransformed data (x vs y).\n",
    "    f (function): Transformation applied to x. Default is the identity function (no transformation).\n",
    "    g (function): Transformation applied to y. Default is the identity function (no transformation).\n",
    "    \"\"\"\n",
    "    if scaled:\n",
    "        # Apply the transformations f(x) and g(y)\n",
    "        transformed_x = f(x_vals)\n",
    "        transformed_y = g(y_vals)\n",
    "        xlabel = 'f(x)'\n",
    "        ylabel = 'g(y)'\n",
    "        title = 'Transformed data: g(y) vs f(x)'\n",
    "    else:\n",
    "        # Use untransformed data\n",
    "        transformed_x = x_vals\n",
    "        transformed_y = y_vals\n",
    "        xlabel = 'x'\n",
    "        ylabel = 'y'\n",
    "        title = 'Original data: y vs x'\n",
    "\n",
    "    # Create the plot\n",
    "    plt.figure(figsize=(8, 6))\n",
    "    plt.scatter(transformed_x, transformed_y, label='Data', color='b', s=10)\n",
    "\n",
    "    # Add labels and title\n",
    "    plt.xlabel(xlabel)\n",
    "    plt.ylabel(ylabel)\n",
    "    plt.title(title)\n",
    "\n",
    "    # Display the plot\n",
    "    plt.show()"
   ]
  },
  {
   "cell_type": "code",
   "execution_count": 14,
   "metadata": {},
   "outputs": [],
   "source": [
    "## Example values for Problem 9\n",
    "\n",
    "# number of training tokens\n",
    "d_vals = [2 ** i for i in range(24,34)]\n",
    "# cross-entropy loss for each model in the example\n",
    "l_vals = [4.00, 3.95, 3.55, 3.43, 3.12, 3.00, 2.79, 2.50, 2.35, 2.22]"
   ]
  },
  {
   "cell_type": "code",
   "execution_count": 18,
   "metadata": {},
   "outputs": [
    {
     "data": {
      "image/png": "[encoded data removed]",
      "text/plain": [
       "<Figure size 800x600 with 1 Axes>"
      ]
     },
     "metadata": {},
     "output_type": "display_data"
    }
   ],
   "source": [
    "x = np.arange(100)\n",
    "random_y = generate_y_vals(x)\n",
    "plot_generated_data(x, random_y)"
   ]
  },
  {
   "cell_type": "code",
   "execution_count": null,
   "metadata": {},
   "outputs": [],
   "source": []
  }
 ],
 "metadata": {
  "kernelspec": {
   "display_name": "lign167",
   "language": "python",
   "name": "python3"
  },
  "language_info": {
   "codemirror_mode": {
    "name": "ipython",
    "version": 3
   },
   "file_extension": ".py",
   "mimetype": "text/x-python",
   "name": "python",
   "nbconvert_exporter": "python",
   "pygments_lexer": "ipython3",
   "version": "3.8.20"
  }
 },
 "nbformat": 4,
 "nbformat_minor": 2
}
