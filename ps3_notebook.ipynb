{
 "cells": [
  {
   "cell_type": "markdown",
   "metadata": {},
   "source": [
    "# Problem Set 3\n",
    "\n",
    "## Starter Code"
   ]
  },
  {
   "cell_type": "code",
   "execution_count": 3,
   "metadata": {},
   "outputs": [],
   "source": [
    "import numpy as np\n",
    "import torch\n",
    "from torch import nn\n",
    "\n",
    "\n",
    "######################################## BEGIN STARTER CODE ########################################\n",
    "\n",
    "def relu(x):\n",
    "    if x<0:\n",
    "        return 0\n",
    "    else:\n",
    "        return x\n",
    "\n",
    "def loss(y_predicted, y_observed):\n",
    "    return (y_predicted - y_observed)**2\n",
    "\n",
    "\n",
    "def mlp(x,W0,W1,W2):\n",
    "\n",
    "    r0_0 = x*W0[0]\n",
    "    r0_1 = x*W0[1]\n",
    "    r0_2 = x*W0[2]\n",
    "    r0_3 = x*W0[3]\n",
    "    r0 = np.array([r0_0,r0_1,r0_2,r0_3])\n",
    "\n",
    "    h0_0 = relu(r0_0)\n",
    "    h0_1 = relu(r0_1)\n",
    "    h0_2 = relu(r0_2)\n",
    "    h0_3 = relu(r0_3)\n",
    "    h0 = np.array([h0_0,h0_1,h0_2,h0_3])\n",
    "\n",
    "    r1_0 = h0_0*W1[0,0] + h0_1*W1[0,1]+ h0_2*W1[0,2] + h0_3*W1[0,3]\n",
    "    r1_1 = h0_0*W1[1,0] + h0_1*W1[1,1]+ h0_2*W1[1,2] + h0_3*W1[1,3]\n",
    "    r1 = np.array([r1_0,r1_1])\n",
    "\n",
    "    h1_0 = relu(r1_0)\n",
    "    h1_1 = relu(r1_1)\n",
    "    h1 = np.array([h1_0,h1_1])\n",
    "\n",
    "    y_predicted = h1_0*W2[0] + h1_1*W2[1]\n",
    "\n",
    "    variable_dict = {}\n",
    "    variable_dict['x'] = x\n",
    "    variable_dict['r0'] = r0\n",
    "    variable_dict['h0'] = h0\n",
    "    variable_dict['r1'] = r1\n",
    "    variable_dict['h1'] = h1\n",
    "    variable_dict['y_predicted'] = y_predicted\n",
    "\n",
    "    return variable_dict\n",
    "\n",
    "### Example arguments ###\n",
    "# x = 10\n",
    "# W0 = np.array([1,2,3,4])\n",
    "# W1 = np.array([[3,4,5,6],[-5,4,3,-2]])\n",
    "# W2 = np.array([1,-3])\n",
    "\n",
    "######################################## END STARTER CODE ########################################\n",
    "\n",
    "# NOTICE: DO NOT EDIT FUNCTION SIGNATURES\n",
    "# PLEASE FILL IN FREE RESPONSE AND CODE IN THE PROVIDED SPACES"
   ]
  },
  {
   "cell_type": "markdown",
   "metadata": {},
   "source": [
    "## Problem 1"
   ]
  },
  {
   "cell_type": "code",
   "execution_count": null,
   "metadata": {},
   "outputs": [],
   "source": [
    "def d_loss_d_ypredicted(variable_dict,y_observed):\n",
    "    pass # YOUR CODE HERE"
   ]
  },
  {
   "cell_type": "markdown",
   "metadata": {},
   "source": [
    "## Problem 2"
   ]
  },
  {
   "cell_type": "code",
   "execution_count": null,
   "metadata": {},
   "outputs": [],
   "source": [
    "def d_loss_d_W2(variable_dict,y_observed):\n",
    "    pass # YOUR CODE HERE"
   ]
  },
  {
   "cell_type": "markdown",
   "metadata": {},
   "source": [
    "## Problem 3"
   ]
  },
  {
   "cell_type": "code",
   "execution_count": null,
   "metadata": {},
   "outputs": [],
   "source": [
    "def d_loss_d_h1(variable_dict,W2,y_observed):\n",
    "    pass # YOUR CODE HERE"
   ]
  },
  {
   "cell_type": "markdown",
   "metadata": {},
   "source": [
    "## Problem 4"
   ]
  },
  {
   "cell_type": "code",
   "execution_count": 5,
   "metadata": {},
   "outputs": [],
   "source": [
    "def relu_derivative(x):\n",
    "    pass # YOUR CODE HERE"
   ]
  },
  {
   "cell_type": "markdown",
   "metadata": {},
   "source": [
    "## Problem 5"
   ]
  },
  {
   "cell_type": "code",
   "execution_count": null,
   "metadata": {},
   "outputs": [],
   "source": [
    "def d_loss_d_r1(variable_dict,W2,y_observed):\n",
    "    pass # YOUR CODE HERE"
   ]
  },
  {
   "cell_type": "markdown",
   "metadata": {},
   "source": [
    "## Problem 6"
   ]
  },
  {
   "cell_type": "code",
   "execution_count": null,
   "metadata": {},
   "outputs": [],
   "source": [
    "def d_loss_d_W1(variable_dict,W2,y_observed):\n",
    "    pass # YOUR CODE HERE"
   ]
  },
  {
   "cell_type": "markdown",
   "metadata": {},
   "source": [
    "## Problem 7"
   ]
  },
  {
   "cell_type": "code",
   "execution_count": null,
   "metadata": {},
   "outputs": [],
   "source": [
    "def d_loss_d_h0(variable_dict,W1,W2,y_observed):\n",
    "    pass # YOUR CODE HERE"
   ]
  },
  {
   "cell_type": "markdown",
   "metadata": {},
   "source": [
    "## Problem 8"
   ]
  },
  {
   "cell_type": "markdown",
   "metadata": {},
   "source": [
    "def d_loss_d_r0(variable_dict,W1,W2,y_observed):\n",
    "    pass # YOUR CODE HERE"
   ]
  },
  {
   "cell_type": "markdown",
   "metadata": {},
   "source": [
    "## Problem 9"
   ]
  },
  {
   "cell_type": "code",
   "execution_count": null,
   "metadata": {},
   "outputs": [],
   "source": [
    "def d_loss_d_W0(variable_dict,W1,W2,y_observed):\n",
    "    pass # YOUR CODE HERE"
   ]
  },
  {
   "cell_type": "markdown",
   "metadata": {},
   "source": [
    "## Problem 10"
   ]
  },
  {
   "cell_type": "code",
   "execution_count": null,
   "metadata": {},
   "outputs": [],
   "source": [
    "class TorchMLP(nn.Module):\n",
    "    def __init__(self):\n",
    "        super().__init__()\n",
    "        ##YOUR CODE HERE##\n",
    "\n",
    "    def forward(self, x):\n",
    "        pass # YOUR CODE HERE"
   ]
  },
  {
   "cell_type": "markdown",
   "metadata": {},
   "source": [
    "## Problem 11"
   ]
  },
  {
   "cell_type": "code",
   "execution_count": null,
   "metadata": {},
   "outputs": [],
   "source": [
    "def torch_loss(y_predicted,y_observed):\n",
    "    pass # YOUR CODE HERE"
   ]
  },
  {
   "cell_type": "markdown",
   "metadata": {},
   "source": [
    "## Problem 12"
   ]
  },
  {
   "cell_type": "code",
   "execution_count": null,
   "metadata": {},
   "outputs": [],
   "source": [
    "def torch_compute_gradient(x,y_observed,model):\n",
    "    pass # YOUR CODE HERE"
   ]
  }
 ],
 "metadata": {
  "kernelspec": {
   "display_name": "lign167",
   "language": "python",
   "name": "python3"
  },
  "language_info": {
   "codemirror_mode": {
    "name": "ipython",
    "version": 3
   },
   "file_extension": ".py",
   "mimetype": "text/x-python",
   "name": "python",
   "nbconvert_exporter": "python",
   "pygments_lexer": "ipython3",
   "version": "3.8.20"
  }
 },
 "nbformat": 4,
 "nbformat_minor": 2
}
